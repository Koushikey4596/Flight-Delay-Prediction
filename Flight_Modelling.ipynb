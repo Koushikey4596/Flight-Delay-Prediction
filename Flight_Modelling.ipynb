{
  "nbformat": 4,
  "nbformat_minor": 0,
  "metadata": {
    "colab": {
      "name": "Flight_Modelling.ipynb",
      "provenance": [],
      "mount_file_id": "1eJI23eaTDn3DjiupV9D8hTUYbS2SWtjH",
      "authorship_tag": "ABX9TyO4uOhfFlvjNggxMqqcjRj7",
      "include_colab_link": true
    },
    "kernelspec": {
      "name": "python3",
      "display_name": "Python 3"
    }
  },
  "cells": [
    {
      "cell_type": "markdown",
      "metadata": {
        "id": "view-in-github",
        "colab_type": "text"
      },
      "source": [
        "<a href=\"https://colab.research.google.com/github/Koushikey4596/Flight-Delay-Prediction/blob/main/Flight_Modelling.ipynb\" target=\"_parent\"><img src=\"https://colab.research.google.com/assets/colab-badge.svg\" alt=\"Open In Colab\"/></a>"
      ]
    },
    {
      "cell_type": "code",
      "metadata": {
        "id": "yJrHyphfCh_s"
      },
      "source": [
        "import pandas as pd\n",
        "import numpy as np\n",
        "import matplotlib.pyplot as plt\n",
        "%matplotlib inline\n",
        "import seaborn as sns\n",
        "pd.set_option('display.max_columns', None)\n",
        "import datetime, warnings, scipy\n",
        "warnings.filterwarnings(\"ignore\")"
      ],
      "execution_count": null,
      "outputs": []
    },
    {
      "cell_type": "code",
      "metadata": {
        "colab": {
          "base_uri": "https://localhost:8080/",
          "height": 316
        },
        "id": "9AwAu9agrnWX",
        "outputId": "aa1d69b8-f422-42b0-b224-d13984d51d08"
      },
      "source": [
        "df1 = pd.read_csv('/content/drive/MyDrive/FlightDelays.csv', index_col=False)\n",
        "df1.head()"
      ],
      "execution_count": null,
      "outputs": [
        {
          "output_type": "execute_result",
          "data": {
            "text/html": [
              "<div>\n",
              "<style scoped>\n",
              "    .dataframe tbody tr th:only-of-type {\n",
              "        vertical-align: middle;\n",
              "    }\n",
              "\n",
              "    .dataframe tbody tr th {\n",
              "        vertical-align: top;\n",
              "    }\n",
              "\n",
              "    .dataframe thead th {\n",
              "        text-align: right;\n",
              "    }\n",
              "</style>\n",
              "<table border=\"1\" class=\"dataframe\">\n",
              "  <thead>\n",
              "    <tr style=\"text-align: right;\">\n",
              "      <th></th>\n",
              "      <th>Unnamed: 0</th>\n",
              "      <th>CRS_DEP_TIME</th>\n",
              "      <th>CARRIER</th>\n",
              "      <th>DEP_TIME</th>\n",
              "      <th>DEST</th>\n",
              "      <th>DISTANCE</th>\n",
              "      <th>FL_DATE</th>\n",
              "      <th>ORIGIN</th>\n",
              "      <th>Weather</th>\n",
              "      <th>DAY_WEEK</th>\n",
              "      <th>DAY_OF_MONTH</th>\n",
              "      <th>TAIL_NUM</th>\n",
              "      <th>Flight Status</th>\n",
              "      <th>Flight_Status_binary</th>\n",
              "      <th>DEP_DELAY</th>\n",
              "      <th>DAY</th>\n",
              "      <th>MONTH</th>\n",
              "      <th>MONTH_AB</th>\n",
              "    </tr>\n",
              "  </thead>\n",
              "  <tbody>\n",
              "    <tr>\n",
              "      <th>0</th>\n",
              "      <td>0</td>\n",
              "      <td>1455</td>\n",
              "      <td>PSA Airlines</td>\n",
              "      <td>1455</td>\n",
              "      <td>JFK</td>\n",
              "      <td>184</td>\n",
              "      <td>01/01/2004</td>\n",
              "      <td>BWI</td>\n",
              "      <td>0</td>\n",
              "      <td>4</td>\n",
              "      <td>1</td>\n",
              "      <td>N940CA</td>\n",
              "      <td>ontime</td>\n",
              "      <td>0</td>\n",
              "      <td>0</td>\n",
              "      <td>1</td>\n",
              "      <td>1</td>\n",
              "      <td>Jan</td>\n",
              "    </tr>\n",
              "    <tr>\n",
              "      <th>1</th>\n",
              "      <td>1</td>\n",
              "      <td>1640</td>\n",
              "      <td>Douniah Airlines</td>\n",
              "      <td>1640</td>\n",
              "      <td>JFK</td>\n",
              "      <td>213</td>\n",
              "      <td>01/01/2004</td>\n",
              "      <td>DCA</td>\n",
              "      <td>0</td>\n",
              "      <td>4</td>\n",
              "      <td>1</td>\n",
              "      <td>N405FJ</td>\n",
              "      <td>ontime</td>\n",
              "      <td>0</td>\n",
              "      <td>0</td>\n",
              "      <td>1</td>\n",
              "      <td>1</td>\n",
              "      <td>Jan</td>\n",
              "    </tr>\n",
              "    <tr>\n",
              "      <th>2</th>\n",
              "      <td>2</td>\n",
              "      <td>1245</td>\n",
              "      <td>Douniah Airlines</td>\n",
              "      <td>1245</td>\n",
              "      <td>LGA</td>\n",
              "      <td>229</td>\n",
              "      <td>01/01/2004</td>\n",
              "      <td>IAD</td>\n",
              "      <td>0</td>\n",
              "      <td>4</td>\n",
              "      <td>1</td>\n",
              "      <td>N695BR</td>\n",
              "      <td>ontime</td>\n",
              "      <td>0</td>\n",
              "      <td>0</td>\n",
              "      <td>1</td>\n",
              "      <td>1</td>\n",
              "      <td>Jan</td>\n",
              "    </tr>\n",
              "    <tr>\n",
              "      <th>3</th>\n",
              "      <td>3</td>\n",
              "      <td>1715</td>\n",
              "      <td>Douniah Airlines</td>\n",
              "      <td>1709</td>\n",
              "      <td>LGA</td>\n",
              "      <td>229</td>\n",
              "      <td>01/01/2004</td>\n",
              "      <td>IAD</td>\n",
              "      <td>0</td>\n",
              "      <td>4</td>\n",
              "      <td>1</td>\n",
              "      <td>N662BR</td>\n",
              "      <td>ontime</td>\n",
              "      <td>0</td>\n",
              "      <td>-6</td>\n",
              "      <td>1</td>\n",
              "      <td>1</td>\n",
              "      <td>Jan</td>\n",
              "    </tr>\n",
              "    <tr>\n",
              "      <th>4</th>\n",
              "      <td>4</td>\n",
              "      <td>1039</td>\n",
              "      <td>Douniah Airlines</td>\n",
              "      <td>1035</td>\n",
              "      <td>LGA</td>\n",
              "      <td>229</td>\n",
              "      <td>01/01/2004</td>\n",
              "      <td>IAD</td>\n",
              "      <td>0</td>\n",
              "      <td>4</td>\n",
              "      <td>1</td>\n",
              "      <td>N698BR</td>\n",
              "      <td>ontime</td>\n",
              "      <td>0</td>\n",
              "      <td>-4</td>\n",
              "      <td>1</td>\n",
              "      <td>1</td>\n",
              "      <td>Jan</td>\n",
              "    </tr>\n",
              "  </tbody>\n",
              "</table>\n",
              "</div>"
            ],
            "text/plain": [
              "   Unnamed: 0  CRS_DEP_TIME           CARRIER  DEP_TIME DEST  DISTANCE  \\\n",
              "0           0          1455      PSA Airlines      1455  JFK       184   \n",
              "1           1          1640  Douniah Airlines      1640  JFK       213   \n",
              "2           2          1245  Douniah Airlines      1245  LGA       229   \n",
              "3           3          1715  Douniah Airlines      1709  LGA       229   \n",
              "4           4          1039  Douniah Airlines      1035  LGA       229   \n",
              "\n",
              "      FL_DATE ORIGIN  Weather  DAY_WEEK  DAY_OF_MONTH TAIL_NUM Flight Status  \\\n",
              "0  01/01/2004    BWI        0         4             1   N940CA        ontime   \n",
              "1  01/01/2004    DCA        0         4             1   N405FJ        ontime   \n",
              "2  01/01/2004    IAD        0         4             1   N695BR        ontime   \n",
              "3  01/01/2004    IAD        0         4             1   N662BR        ontime   \n",
              "4  01/01/2004    IAD        0         4             1   N698BR        ontime   \n",
              "\n",
              "   Flight_Status_binary  DEP_DELAY  DAY  MONTH MONTH_AB  \n",
              "0                     0          0    1      1      Jan  \n",
              "1                     0          0    1      1      Jan  \n",
              "2                     0          0    1      1      Jan  \n",
              "3                     0         -6    1      1      Jan  \n",
              "4                     0         -4    1      1      Jan  "
            ]
          },
          "metadata": {
            "tags": []
          },
          "execution_count": 9
        }
      ]
    },
    {
      "cell_type": "code",
      "metadata": {
        "id": "kW8TwXdwrx15"
      },
      "source": [
        "df1['CARRIER'].replace({\n",
        "    'UA':'United Airlines',\n",
        "    'DH':'Douniah Airlines',\n",
        "    'US':'United States Airlines',\n",
        "    'RU':'Russian Airlines',\n",
        "    'CO':'Continental Airlines',\n",
        "    'MQ':'Envoy Air',\n",
        "    'OH':'PSA Airlines',\n",
        "    'DL':'Delta Airlines'\n",
        "}, inplace=True)"
      ],
      "execution_count": null,
      "outputs": []
    },
    {
      "cell_type": "code",
      "metadata": {
        "colab": {
          "base_uri": "https://localhost:8080/",
          "height": 195
        },
        "id": "DPCWojSDr59C",
        "outputId": "c95df1ae-f1e6-4439-b1e8-e267f29ad4ea"
      },
      "source": [
        "df1.head()\n"
      ],
      "execution_count": null,
      "outputs": [
        {
          "output_type": "execute_result",
          "data": {
            "text/html": [
              "<div>\n",
              "<style scoped>\n",
              "    .dataframe tbody tr th:only-of-type {\n",
              "        vertical-align: middle;\n",
              "    }\n",
              "\n",
              "    .dataframe tbody tr th {\n",
              "        vertical-align: top;\n",
              "    }\n",
              "\n",
              "    .dataframe thead th {\n",
              "        text-align: right;\n",
              "    }\n",
              "</style>\n",
              "<table border=\"1\" class=\"dataframe\">\n",
              "  <thead>\n",
              "    <tr style=\"text-align: right;\">\n",
              "      <th></th>\n",
              "      <th>Unnamed: 0</th>\n",
              "      <th>CRS_DEP_TIME</th>\n",
              "      <th>DEP_TIME</th>\n",
              "      <th>DISTANCE</th>\n",
              "      <th>FL_DATE</th>\n",
              "      <th>Weather</th>\n",
              "      <th>DAY_WEEK</th>\n",
              "      <th>DAY_OF_MONTH</th>\n",
              "      <th>TAIL_NUM</th>\n",
              "      <th>Flight_Status_binary</th>\n",
              "      <th>DEP_DELAY</th>\n",
              "      <th>DAY</th>\n",
              "      <th>MONTH</th>\n",
              "      <th>MONTH_AB</th>\n",
              "    </tr>\n",
              "  </thead>\n",
              "  <tbody>\n",
              "    <tr>\n",
              "      <th>0</th>\n",
              "      <td>0</td>\n",
              "      <td>1455</td>\n",
              "      <td>1455</td>\n",
              "      <td>184</td>\n",
              "      <td>01/01/2004</td>\n",
              "      <td>0</td>\n",
              "      <td>4</td>\n",
              "      <td>1</td>\n",
              "      <td>N940CA</td>\n",
              "      <td>0</td>\n",
              "      <td>0</td>\n",
              "      <td>1</td>\n",
              "      <td>1</td>\n",
              "      <td>Jan</td>\n",
              "    </tr>\n",
              "    <tr>\n",
              "      <th>1</th>\n",
              "      <td>1</td>\n",
              "      <td>1640</td>\n",
              "      <td>1640</td>\n",
              "      <td>213</td>\n",
              "      <td>01/01/2004</td>\n",
              "      <td>0</td>\n",
              "      <td>4</td>\n",
              "      <td>1</td>\n",
              "      <td>N405FJ</td>\n",
              "      <td>0</td>\n",
              "      <td>0</td>\n",
              "      <td>1</td>\n",
              "      <td>1</td>\n",
              "      <td>Jan</td>\n",
              "    </tr>\n",
              "    <tr>\n",
              "      <th>2</th>\n",
              "      <td>2</td>\n",
              "      <td>1245</td>\n",
              "      <td>1245</td>\n",
              "      <td>229</td>\n",
              "      <td>01/01/2004</td>\n",
              "      <td>0</td>\n",
              "      <td>4</td>\n",
              "      <td>1</td>\n",
              "      <td>N695BR</td>\n",
              "      <td>0</td>\n",
              "      <td>0</td>\n",
              "      <td>1</td>\n",
              "      <td>1</td>\n",
              "      <td>Jan</td>\n",
              "    </tr>\n",
              "    <tr>\n",
              "      <th>3</th>\n",
              "      <td>3</td>\n",
              "      <td>1715</td>\n",
              "      <td>1709</td>\n",
              "      <td>229</td>\n",
              "      <td>01/01/2004</td>\n",
              "      <td>0</td>\n",
              "      <td>4</td>\n",
              "      <td>1</td>\n",
              "      <td>N662BR</td>\n",
              "      <td>0</td>\n",
              "      <td>-6</td>\n",
              "      <td>1</td>\n",
              "      <td>1</td>\n",
              "      <td>Jan</td>\n",
              "    </tr>\n",
              "    <tr>\n",
              "      <th>4</th>\n",
              "      <td>4</td>\n",
              "      <td>1039</td>\n",
              "      <td>1035</td>\n",
              "      <td>229</td>\n",
              "      <td>01/01/2004</td>\n",
              "      <td>0</td>\n",
              "      <td>4</td>\n",
              "      <td>1</td>\n",
              "      <td>N698BR</td>\n",
              "      <td>0</td>\n",
              "      <td>-4</td>\n",
              "      <td>1</td>\n",
              "      <td>1</td>\n",
              "      <td>Jan</td>\n",
              "    </tr>\n",
              "  </tbody>\n",
              "</table>\n",
              "</div>"
            ],
            "text/plain": [
              "   Unnamed: 0  CRS_DEP_TIME  DEP_TIME  DISTANCE     FL_DATE  Weather  \\\n",
              "0           0          1455      1455       184  01/01/2004        0   \n",
              "1           1          1640      1640       213  01/01/2004        0   \n",
              "2           2          1245      1245       229  01/01/2004        0   \n",
              "3           3          1715      1709       229  01/01/2004        0   \n",
              "4           4          1039      1035       229  01/01/2004        0   \n",
              "\n",
              "   DAY_WEEK  DAY_OF_MONTH TAIL_NUM  Flight_Status_binary  DEP_DELAY  DAY  \\\n",
              "0         4             1   N940CA                     0          0    1   \n",
              "1         4             1   N405FJ                     0          0    1   \n",
              "2         4             1   N695BR                     0          0    1   \n",
              "3         4             1   N662BR                     0         -6    1   \n",
              "4         4             1   N698BR                     0         -4    1   \n",
              "\n",
              "   MONTH MONTH_AB  \n",
              "0      1      Jan  \n",
              "1      1      Jan  \n",
              "2      1      Jan  \n",
              "3      1      Jan  \n",
              "4      1      Jan  "
            ]
          },
          "metadata": {
            "tags": []
          },
          "execution_count": 15
        }
      ]
    },
    {
      "cell_type": "code",
      "metadata": {
        "colab": {
          "base_uri": "https://localhost:8080/",
          "height": 195
        },
        "id": "4xxtQAM5vwEt",
        "outputId": "4bc24926-5ddb-40ba-ecb4-89315acc44e2"
      },
      "source": [
        "df1['DEP_DELAY'] = df1.apply(lambda column: column.DEP_TIME - column.CRS_DEP_TIME, axis=1)\n",
        "df1.to_csv(\"/content/drive/MyDrive/FlightDelays.csv\")\n",
        "df1.head()"
      ],
      "execution_count": null,
      "outputs": [
        {
          "output_type": "execute_result",
          "data": {
            "text/html": [
              "<div>\n",
              "<style scoped>\n",
              "    .dataframe tbody tr th:only-of-type {\n",
              "        vertical-align: middle;\n",
              "    }\n",
              "\n",
              "    .dataframe tbody tr th {\n",
              "        vertical-align: top;\n",
              "    }\n",
              "\n",
              "    .dataframe thead th {\n",
              "        text-align: right;\n",
              "    }\n",
              "</style>\n",
              "<table border=\"1\" class=\"dataframe\">\n",
              "  <thead>\n",
              "    <tr style=\"text-align: right;\">\n",
              "      <th></th>\n",
              "      <th>Unnamed: 0</th>\n",
              "      <th>CRS_DEP_TIME</th>\n",
              "      <th>DEP_TIME</th>\n",
              "      <th>DISTANCE</th>\n",
              "      <th>FL_DATE</th>\n",
              "      <th>Weather</th>\n",
              "      <th>DAY_WEEK</th>\n",
              "      <th>DAY_OF_MONTH</th>\n",
              "      <th>TAIL_NUM</th>\n",
              "      <th>Flight_Status_binary</th>\n",
              "      <th>DEP_DELAY</th>\n",
              "      <th>DAY</th>\n",
              "      <th>MONTH</th>\n",
              "      <th>MONTH_AB</th>\n",
              "    </tr>\n",
              "  </thead>\n",
              "  <tbody>\n",
              "    <tr>\n",
              "      <th>0</th>\n",
              "      <td>0</td>\n",
              "      <td>1455</td>\n",
              "      <td>1455</td>\n",
              "      <td>184</td>\n",
              "      <td>01/01/2004</td>\n",
              "      <td>0</td>\n",
              "      <td>4</td>\n",
              "      <td>1</td>\n",
              "      <td>N940CA</td>\n",
              "      <td>0</td>\n",
              "      <td>0</td>\n",
              "      <td>1</td>\n",
              "      <td>1</td>\n",
              "      <td>Jan</td>\n",
              "    </tr>\n",
              "    <tr>\n",
              "      <th>1</th>\n",
              "      <td>1</td>\n",
              "      <td>1640</td>\n",
              "      <td>1640</td>\n",
              "      <td>213</td>\n",
              "      <td>01/01/2004</td>\n",
              "      <td>0</td>\n",
              "      <td>4</td>\n",
              "      <td>1</td>\n",
              "      <td>N405FJ</td>\n",
              "      <td>0</td>\n",
              "      <td>0</td>\n",
              "      <td>1</td>\n",
              "      <td>1</td>\n",
              "      <td>Jan</td>\n",
              "    </tr>\n",
              "    <tr>\n",
              "      <th>2</th>\n",
              "      <td>2</td>\n",
              "      <td>1245</td>\n",
              "      <td>1245</td>\n",
              "      <td>229</td>\n",
              "      <td>01/01/2004</td>\n",
              "      <td>0</td>\n",
              "      <td>4</td>\n",
              "      <td>1</td>\n",
              "      <td>N695BR</td>\n",
              "      <td>0</td>\n",
              "      <td>0</td>\n",
              "      <td>1</td>\n",
              "      <td>1</td>\n",
              "      <td>Jan</td>\n",
              "    </tr>\n",
              "    <tr>\n",
              "      <th>3</th>\n",
              "      <td>3</td>\n",
              "      <td>1715</td>\n",
              "      <td>1709</td>\n",
              "      <td>229</td>\n",
              "      <td>01/01/2004</td>\n",
              "      <td>0</td>\n",
              "      <td>4</td>\n",
              "      <td>1</td>\n",
              "      <td>N662BR</td>\n",
              "      <td>0</td>\n",
              "      <td>-6</td>\n",
              "      <td>1</td>\n",
              "      <td>1</td>\n",
              "      <td>Jan</td>\n",
              "    </tr>\n",
              "    <tr>\n",
              "      <th>4</th>\n",
              "      <td>4</td>\n",
              "      <td>1039</td>\n",
              "      <td>1035</td>\n",
              "      <td>229</td>\n",
              "      <td>01/01/2004</td>\n",
              "      <td>0</td>\n",
              "      <td>4</td>\n",
              "      <td>1</td>\n",
              "      <td>N698BR</td>\n",
              "      <td>0</td>\n",
              "      <td>-4</td>\n",
              "      <td>1</td>\n",
              "      <td>1</td>\n",
              "      <td>Jan</td>\n",
              "    </tr>\n",
              "  </tbody>\n",
              "</table>\n",
              "</div>"
            ],
            "text/plain": [
              "   Unnamed: 0  CRS_DEP_TIME  DEP_TIME  DISTANCE     FL_DATE  Weather  \\\n",
              "0           0          1455      1455       184  01/01/2004        0   \n",
              "1           1          1640      1640       213  01/01/2004        0   \n",
              "2           2          1245      1245       229  01/01/2004        0   \n",
              "3           3          1715      1709       229  01/01/2004        0   \n",
              "4           4          1039      1035       229  01/01/2004        0   \n",
              "\n",
              "   DAY_WEEK  DAY_OF_MONTH TAIL_NUM  Flight_Status_binary  DEP_DELAY  DAY  \\\n",
              "0         4             1   N940CA                     0          0    1   \n",
              "1         4             1   N405FJ                     0          0    1   \n",
              "2         4             1   N695BR                     0          0    1   \n",
              "3         4             1   N662BR                     0         -6    1   \n",
              "4         4             1   N698BR                     0         -4    1   \n",
              "\n",
              "   MONTH MONTH_AB  \n",
              "0      1      Jan  \n",
              "1      1      Jan  \n",
              "2      1      Jan  \n",
              "3      1      Jan  \n",
              "4      1      Jan  "
            ]
          },
          "metadata": {
            "tags": []
          },
          "execution_count": 16
        }
      ]
    },
    {
      "cell_type": "code",
      "metadata": {
        "id": "Hv1-xnZB4kP_"
      },
      "source": [
        "df1 = df1.drop(['FL_NUM'], axis=1)\n",
        "df1.head(3)"
      ],
      "execution_count": null,
      "outputs": []
    },
    {
      "cell_type": "code",
      "metadata": {
        "id": "4uXgMMnd5Ji7"
      },
      "source": [
        "df1.to_csv(\"/content/drive/MyDrive/FlightDelays.csv\")"
      ],
      "execution_count": null,
      "outputs": []
    },
    {
      "cell_type": "code",
      "metadata": {
        "id": "-M4_OeNk5T5u"
      },
      "source": [
        "\n",
        "print('Number of total missing values:', df1.isna().sum().sum())\n",
        "print('df1 shape:', df1.shape)"
      ],
      "execution_count": null,
      "outputs": []
    },
    {
      "cell_type": "code",
      "metadata": {
        "id": "UDnuQNO25ivZ"
      },
      "source": [
        "df1[\"DEP_DELAY\"] = df1[\"DEP_DELAY\"].fillna(0)\n",
        "df1.isna().sum()"
      ],
      "execution_count": null,
      "outputs": []
    },
    {
      "cell_type": "code",
      "metadata": {
        "id": "hwUB28Rj6OBl"
      },
      "source": [
        "\n",
        "df1['DAY'] = pd.DatetimeIndex(df1['FL_DATE']).day\n",
        "df1['MONTH'] = pd.DatetimeIndex(df1['FL_DATE']).month\n",
        "df1.head(2)"
      ],
      "execution_count": null,
      "outputs": []
    },
    {
      "cell_type": "code",
      "metadata": {
        "id": "TVUE-XRs63BU"
      },
      "source": [
        "print('Maximum number of days in a month:', df1.DAY.nunique())\n",
        "print('Total number of months:', df1.MONTH.nunique())"
      ],
      "execution_count": null,
      "outputs": []
    },
    {
      "cell_type": "code",
      "metadata": {
        "id": "H1HNW7z17CKC"
      },
      "source": [
        "import calendar\n",
        "df1['MONTH_AB'] = df1['MONTH'].apply(lambda x: calendar.month_abbr[x])"
      ],
      "execution_count": null,
      "outputs": []
    },
    {
      "cell_type": "code",
      "metadata": {
        "colab": {
          "base_uri": "https://localhost:8080/",
          "height": 106
        },
        "id": "CzxCDkJG7FmG",
        "outputId": "9bdf05a2-014c-42b0-8698-9e372ab690c4"
      },
      "source": [
        "df1.head(2)"
      ],
      "execution_count": null,
      "outputs": [
        {
          "output_type": "execute_result",
          "data": {
            "text/html": [
              "<div>\n",
              "<style scoped>\n",
              "    .dataframe tbody tr th:only-of-type {\n",
              "        vertical-align: middle;\n",
              "    }\n",
              "\n",
              "    .dataframe tbody tr th {\n",
              "        vertical-align: top;\n",
              "    }\n",
              "\n",
              "    .dataframe thead th {\n",
              "        text-align: right;\n",
              "    }\n",
              "</style>\n",
              "<table border=\"1\" class=\"dataframe\">\n",
              "  <thead>\n",
              "    <tr style=\"text-align: right;\">\n",
              "      <th></th>\n",
              "      <th>Unnamed: 0</th>\n",
              "      <th>CRS_DEP_TIME</th>\n",
              "      <th>DEP_TIME</th>\n",
              "      <th>DISTANCE</th>\n",
              "      <th>FL_DATE</th>\n",
              "      <th>Weather</th>\n",
              "      <th>DAY_WEEK</th>\n",
              "      <th>DAY_OF_MONTH</th>\n",
              "      <th>TAIL_NUM</th>\n",
              "      <th>Flight_Status_binary</th>\n",
              "      <th>DEP_DELAY</th>\n",
              "      <th>DAY</th>\n",
              "      <th>MONTH</th>\n",
              "      <th>MONTH_AB</th>\n",
              "    </tr>\n",
              "  </thead>\n",
              "  <tbody>\n",
              "    <tr>\n",
              "      <th>0</th>\n",
              "      <td>0</td>\n",
              "      <td>1455</td>\n",
              "      <td>1455</td>\n",
              "      <td>184</td>\n",
              "      <td>01/01/2004</td>\n",
              "      <td>0</td>\n",
              "      <td>4</td>\n",
              "      <td>1</td>\n",
              "      <td>N940CA</td>\n",
              "      <td>0</td>\n",
              "      <td>0</td>\n",
              "      <td>1</td>\n",
              "      <td>1</td>\n",
              "      <td>Jan</td>\n",
              "    </tr>\n",
              "    <tr>\n",
              "      <th>1</th>\n",
              "      <td>1</td>\n",
              "      <td>1640</td>\n",
              "      <td>1640</td>\n",
              "      <td>213</td>\n",
              "      <td>01/01/2004</td>\n",
              "      <td>0</td>\n",
              "      <td>4</td>\n",
              "      <td>1</td>\n",
              "      <td>N405FJ</td>\n",
              "      <td>0</td>\n",
              "      <td>0</td>\n",
              "      <td>1</td>\n",
              "      <td>1</td>\n",
              "      <td>Jan</td>\n",
              "    </tr>\n",
              "  </tbody>\n",
              "</table>\n",
              "</div>"
            ],
            "text/plain": [
              "   Unnamed: 0  CRS_DEP_TIME  DEP_TIME  DISTANCE     FL_DATE  Weather  \\\n",
              "0           0          1455      1455       184  01/01/2004        0   \n",
              "1           1          1640      1640       213  01/01/2004        0   \n",
              "\n",
              "   DAY_WEEK  DAY_OF_MONTH TAIL_NUM  Flight_Status_binary  DEP_DELAY  DAY  \\\n",
              "0         4             1   N940CA                     0          0    1   \n",
              "1         4             1   N405FJ                     0          0    1   \n",
              "\n",
              "   MONTH MONTH_AB  \n",
              "0      1      Jan  \n",
              "1      1      Jan  "
            ]
          },
          "metadata": {
            "tags": []
          },
          "execution_count": 23
        }
      ]
    },
    {
      "cell_type": "code",
      "metadata": {
        "colab": {
          "base_uri": "https://localhost:8080/"
        },
        "id": "FslFt9iM7_rn",
        "outputId": "ed6f315d-e8ac-4845-92ad-fd64a205e772"
      },
      "source": [
        "df1.Flight_Status_binary.value_counts(normalize=True)"
      ],
      "execution_count": null,
      "outputs": [
        {
          "output_type": "execute_result",
          "data": {
            "text/plain": [
              "0    0.805543\n",
              "1    0.194457\n",
              "Name: Flight_Status_binary, dtype: float64"
            ]
          },
          "metadata": {
            "tags": []
          },
          "execution_count": 24
        }
      ]
    },
    {
      "cell_type": "code",
      "metadata": {
        "id": "-tsOOcMK8SAS"
      },
      "source": [
        "df1.to_csv(\"/content/drive/MyDrive/FlightDelays.csv\")"
      ],
      "execution_count": null,
      "outputs": []
    },
    {
      "cell_type": "code",
      "metadata": {
        "id": "BOiBnHco8bhB"
      },
      "source": [
        "df1['FL_DATE'] = pd.to_datetime(df1['FL_DATE'])\n",
        "df1['WEEKDAY'] = df1['FL_DATE'].dt.dayofweek"
      ],
      "execution_count": null,
      "outputs": []
    },
    {
      "cell_type": "code",
      "metadata": {
        "colab": {
          "base_uri": "https://localhost:8080/"
        },
        "id": "oQURQD4W8i_u",
        "outputId": "ebe5a83a-7ff6-45f0-b3fd-c3cebd9c8946"
      },
      "source": [
        "df1.WEEKDAY.value_counts()"
      ],
      "execution_count": null,
      "outputs": [
        {
          "output_type": "execute_result",
          "data": {
            "text/plain": [
              "4    391\n",
              "3    372\n",
              "2    320\n",
              "0    308\n",
              "1    307\n",
              "6    253\n",
              "5    250\n",
              "Name: WEEKDAY, dtype: int64"
            ]
          },
          "metadata": {
            "tags": []
          },
          "execution_count": 27
        }
      ]
    },
    {
      "cell_type": "code",
      "metadata": {
        "colab": {
          "base_uri": "https://localhost:8080/",
          "height": 195
        },
        "id": "oTBGGrrzFOiC",
        "outputId": "3fbc1d68-fb36-4b8c-bf76-8db4d0d73b99"
      },
      "source": [
        "df1.head()"
      ],
      "execution_count": null,
      "outputs": [
        {
          "output_type": "execute_result",
          "data": {
            "text/html": [
              "<div>\n",
              "<style scoped>\n",
              "    .dataframe tbody tr th:only-of-type {\n",
              "        vertical-align: middle;\n",
              "    }\n",
              "\n",
              "    .dataframe tbody tr th {\n",
              "        vertical-align: top;\n",
              "    }\n",
              "\n",
              "    .dataframe thead th {\n",
              "        text-align: right;\n",
              "    }\n",
              "</style>\n",
              "<table border=\"1\" class=\"dataframe\">\n",
              "  <thead>\n",
              "    <tr style=\"text-align: right;\">\n",
              "      <th></th>\n",
              "      <th>Unnamed: 0</th>\n",
              "      <th>CRS_DEP_TIME</th>\n",
              "      <th>DEP_TIME</th>\n",
              "      <th>DISTANCE</th>\n",
              "      <th>FL_DATE</th>\n",
              "      <th>Weather</th>\n",
              "      <th>DAY_WEEK</th>\n",
              "      <th>DAY_OF_MONTH</th>\n",
              "      <th>TAIL_NUM</th>\n",
              "      <th>Flight_Status_binary</th>\n",
              "      <th>DEP_DELAY</th>\n",
              "      <th>DAY</th>\n",
              "      <th>MONTH</th>\n",
              "      <th>MONTH_AB</th>\n",
              "      <th>WEEKDAY</th>\n",
              "    </tr>\n",
              "  </thead>\n",
              "  <tbody>\n",
              "    <tr>\n",
              "      <th>0</th>\n",
              "      <td>0</td>\n",
              "      <td>1455</td>\n",
              "      <td>1455</td>\n",
              "      <td>184</td>\n",
              "      <td>2004-01-01</td>\n",
              "      <td>0</td>\n",
              "      <td>4</td>\n",
              "      <td>1</td>\n",
              "      <td>N940CA</td>\n",
              "      <td>0</td>\n",
              "      <td>0</td>\n",
              "      <td>1</td>\n",
              "      <td>1</td>\n",
              "      <td>Jan</td>\n",
              "      <td>3</td>\n",
              "    </tr>\n",
              "    <tr>\n",
              "      <th>1</th>\n",
              "      <td>1</td>\n",
              "      <td>1640</td>\n",
              "      <td>1640</td>\n",
              "      <td>213</td>\n",
              "      <td>2004-01-01</td>\n",
              "      <td>0</td>\n",
              "      <td>4</td>\n",
              "      <td>1</td>\n",
              "      <td>N405FJ</td>\n",
              "      <td>0</td>\n",
              "      <td>0</td>\n",
              "      <td>1</td>\n",
              "      <td>1</td>\n",
              "      <td>Jan</td>\n",
              "      <td>3</td>\n",
              "    </tr>\n",
              "    <tr>\n",
              "      <th>2</th>\n",
              "      <td>2</td>\n",
              "      <td>1245</td>\n",
              "      <td>1245</td>\n",
              "      <td>229</td>\n",
              "      <td>2004-01-01</td>\n",
              "      <td>0</td>\n",
              "      <td>4</td>\n",
              "      <td>1</td>\n",
              "      <td>N695BR</td>\n",
              "      <td>0</td>\n",
              "      <td>0</td>\n",
              "      <td>1</td>\n",
              "      <td>1</td>\n",
              "      <td>Jan</td>\n",
              "      <td>3</td>\n",
              "    </tr>\n",
              "    <tr>\n",
              "      <th>3</th>\n",
              "      <td>3</td>\n",
              "      <td>1715</td>\n",
              "      <td>1709</td>\n",
              "      <td>229</td>\n",
              "      <td>2004-01-01</td>\n",
              "      <td>0</td>\n",
              "      <td>4</td>\n",
              "      <td>1</td>\n",
              "      <td>N662BR</td>\n",
              "      <td>0</td>\n",
              "      <td>-6</td>\n",
              "      <td>1</td>\n",
              "      <td>1</td>\n",
              "      <td>Jan</td>\n",
              "      <td>3</td>\n",
              "    </tr>\n",
              "    <tr>\n",
              "      <th>4</th>\n",
              "      <td>4</td>\n",
              "      <td>1039</td>\n",
              "      <td>1035</td>\n",
              "      <td>229</td>\n",
              "      <td>2004-01-01</td>\n",
              "      <td>0</td>\n",
              "      <td>4</td>\n",
              "      <td>1</td>\n",
              "      <td>N698BR</td>\n",
              "      <td>0</td>\n",
              "      <td>-4</td>\n",
              "      <td>1</td>\n",
              "      <td>1</td>\n",
              "      <td>Jan</td>\n",
              "      <td>3</td>\n",
              "    </tr>\n",
              "  </tbody>\n",
              "</table>\n",
              "</div>"
            ],
            "text/plain": [
              "   Unnamed: 0  CRS_DEP_TIME  DEP_TIME  DISTANCE    FL_DATE  Weather  DAY_WEEK  \\\n",
              "0           0          1455      1455       184 2004-01-01        0         4   \n",
              "1           1          1640      1640       213 2004-01-01        0         4   \n",
              "2           2          1245      1245       229 2004-01-01        0         4   \n",
              "3           3          1715      1709       229 2004-01-01        0         4   \n",
              "4           4          1039      1035       229 2004-01-01        0         4   \n",
              "\n",
              "   DAY_OF_MONTH TAIL_NUM  Flight_Status_binary  DEP_DELAY  DAY  MONTH  \\\n",
              "0             1   N940CA                     0          0    1      1   \n",
              "1             1   N405FJ                     0          0    1      1   \n",
              "2             1   N695BR                     0          0    1      1   \n",
              "3             1   N662BR                     0         -6    1      1   \n",
              "4             1   N698BR                     0         -4    1      1   \n",
              "\n",
              "  MONTH_AB  WEEKDAY  \n",
              "0      Jan        3  \n",
              "1      Jan        3  \n",
              "2      Jan        3  \n",
              "3      Jan        3  \n",
              "4      Jan        3  "
            ]
          },
          "metadata": {
            "tags": []
          },
          "execution_count": 28
        }
      ]
    },
    {
      "cell_type": "code",
      "metadata": {
        "id": "N1cQMSORFaL1"
      },
      "source": [
        "print('Total number of departure/origin cities:', df1.ORIGIN.nunique())\n",
        "print('==================================================')\n",
        "print('Total number of arrivals/destinations cities:', df1.DEST.nunique())\n",
        "print('==================================================')"
      ],
      "execution_count": null,
      "outputs": []
    },
    {
      "cell_type": "code",
      "metadata": {
        "id": "ljbz-TVzGX8s"
      },
      "source": [
        "\n",
        "top_cities = df1.DEST.value_counts().iloc[0:20].rename_axis('DEST').reset_index(name='TOTAL_FLIGHTS')\n",
        "top_cities.head()"
      ],
      "execution_count": null,
      "outputs": []
    },
    {
      "cell_type": "code",
      "metadata": {
        "id": "55rYZ4snGQgB"
      },
      "source": [
        "city_list = top_cities['DEST'].tolist()\n",
        "city_list"
      ],
      "execution_count": null,
      "outputs": []
    },
    {
      "cell_type": "code",
      "metadata": {
        "id": "pPalLk5qeb1_"
      },
      "source": [
        "df1.to_csv(\"/content/drive/MyDrive/FlightDelays.csv\")"
      ],
      "execution_count": null,
      "outputs": []
    },
    {
      "cell_type": "code",
      "metadata": {
        "id": "TW_wKuF_HTTv"
      },
      "source": [
        "df1.head()"
      ],
      "execution_count": null,
      "outputs": []
    },
    {
      "cell_type": "code",
      "metadata": {
        "id": "nN95IPmgiOjL"
      },
      "source": [
        "df1.info()"
      ],
      "execution_count": null,
      "outputs": []
    },
    {
      "cell_type": "code",
      "metadata": {
        "id": "3q_u41R5iiQ5"
      },
      "source": [
        "df1 = df1.drop(columns=['FL_DATE', 'MONTH_AB','TAIL_NUM'])"
      ],
      "execution_count": null,
      "outputs": []
    },
    {
      "cell_type": "code",
      "metadata": {
        "colab": {
          "base_uri": "https://localhost:8080/",
          "height": 402
        },
        "id": "H6cfTEUCi9Op",
        "outputId": "f945c51a-5792-42e8-e219-1c4b8d56e353"
      },
      "source": [
        "df1.corr()\n"
      ],
      "execution_count": null,
      "outputs": [
        {
          "output_type": "execute_result",
          "data": {
            "text/html": [
              "<div>\n",
              "<style scoped>\n",
              "    .dataframe tbody tr th:only-of-type {\n",
              "        vertical-align: middle;\n",
              "    }\n",
              "\n",
              "    .dataframe tbody tr th {\n",
              "        vertical-align: top;\n",
              "    }\n",
              "\n",
              "    .dataframe thead th {\n",
              "        text-align: right;\n",
              "    }\n",
              "</style>\n",
              "<table border=\"1\" class=\"dataframe\">\n",
              "  <thead>\n",
              "    <tr style=\"text-align: right;\">\n",
              "      <th></th>\n",
              "      <th>Unnamed: 0</th>\n",
              "      <th>CRS_DEP_TIME</th>\n",
              "      <th>DEP_TIME</th>\n",
              "      <th>DISTANCE</th>\n",
              "      <th>Weather</th>\n",
              "      <th>DAY_WEEK</th>\n",
              "      <th>DAY_OF_MONTH</th>\n",
              "      <th>Flight_Status_binary</th>\n",
              "      <th>DEP_DELAY</th>\n",
              "      <th>DAY</th>\n",
              "      <th>MONTH</th>\n",
              "      <th>WEEKDAY</th>\n",
              "    </tr>\n",
              "  </thead>\n",
              "  <tbody>\n",
              "    <tr>\n",
              "      <th>Unnamed: 0</th>\n",
              "      <td>1.000000</td>\n",
              "      <td>0.002847</td>\n",
              "      <td>-0.000054</td>\n",
              "      <td>-0.007065</td>\n",
              "      <td>0.142594</td>\n",
              "      <td>0.021620</td>\n",
              "      <td>0.999065</td>\n",
              "      <td>0.065400</td>\n",
              "      <td>-0.015693</td>\n",
              "      <td>0.999065</td>\n",
              "      <td>NaN</td>\n",
              "      <td>0.021620</td>\n",
              "    </tr>\n",
              "    <tr>\n",
              "      <th>CRS_DEP_TIME</th>\n",
              "      <td>0.002847</td>\n",
              "      <td>1.000000</td>\n",
              "      <td>0.983523</td>\n",
              "      <td>0.062368</td>\n",
              "      <td>-0.008266</td>\n",
              "      <td>0.051766</td>\n",
              "      <td>0.002324</td>\n",
              "      <td>0.112474</td>\n",
              "      <td>0.030928</td>\n",
              "      <td>0.002324</td>\n",
              "      <td>NaN</td>\n",
              "      <td>0.051766</td>\n",
              "    </tr>\n",
              "    <tr>\n",
              "      <th>DEP_TIME</th>\n",
              "      <td>-0.000054</td>\n",
              "      <td>0.983523</td>\n",
              "      <td>1.000000</td>\n",
              "      <td>0.057680</td>\n",
              "      <td>0.019001</td>\n",
              "      <td>0.051868</td>\n",
              "      <td>0.000132</td>\n",
              "      <td>0.170116</td>\n",
              "      <td>0.211115</td>\n",
              "      <td>0.000132</td>\n",
              "      <td>NaN</td>\n",
              "      <td>0.051868</td>\n",
              "    </tr>\n",
              "    <tr>\n",
              "      <th>DISTANCE</th>\n",
              "      <td>-0.007065</td>\n",
              "      <td>0.062368</td>\n",
              "      <td>0.057680</td>\n",
              "      <td>1.000000</td>\n",
              "      <td>0.033104</td>\n",
              "      <td>-0.020926</td>\n",
              "      <td>0.010121</td>\n",
              "      <td>-0.018794</td>\n",
              "      <td>-0.018309</td>\n",
              "      <td>0.010121</td>\n",
              "      <td>NaN</td>\n",
              "      <td>-0.020926</td>\n",
              "    </tr>\n",
              "    <tr>\n",
              "      <th>Weather</th>\n",
              "      <td>0.142594</td>\n",
              "      <td>-0.008266</td>\n",
              "      <td>0.019001</td>\n",
              "      <td>0.033104</td>\n",
              "      <td>1.000000</td>\n",
              "      <td>-0.123636</td>\n",
              "      <td>0.144034</td>\n",
              "      <td>0.247217</td>\n",
              "      <td>0.149745</td>\n",
              "      <td>0.144034</td>\n",
              "      <td>NaN</td>\n",
              "      <td>-0.123636</td>\n",
              "    </tr>\n",
              "    <tr>\n",
              "      <th>DAY_WEEK</th>\n",
              "      <td>0.021620</td>\n",
              "      <td>0.051766</td>\n",
              "      <td>0.051868</td>\n",
              "      <td>-0.020926</td>\n",
              "      <td>-0.123636</td>\n",
              "      <td>1.000000</td>\n",
              "      <td>0.015914</td>\n",
              "      <td>-0.040756</td>\n",
              "      <td>0.006885</td>\n",
              "      <td>0.015914</td>\n",
              "      <td>NaN</td>\n",
              "      <td>1.000000</td>\n",
              "    </tr>\n",
              "    <tr>\n",
              "      <th>DAY_OF_MONTH</th>\n",
              "      <td>0.999065</td>\n",
              "      <td>0.002324</td>\n",
              "      <td>0.000132</td>\n",
              "      <td>0.010121</td>\n",
              "      <td>0.144034</td>\n",
              "      <td>0.015914</td>\n",
              "      <td>1.000000</td>\n",
              "      <td>0.066598</td>\n",
              "      <td>-0.011836</td>\n",
              "      <td>1.000000</td>\n",
              "      <td>NaN</td>\n",
              "      <td>0.015914</td>\n",
              "    </tr>\n",
              "    <tr>\n",
              "      <th>Flight_Status_binary</th>\n",
              "      <td>0.065400</td>\n",
              "      <td>0.112474</td>\n",
              "      <td>0.170116</td>\n",
              "      <td>-0.018794</td>\n",
              "      <td>0.247217</td>\n",
              "      <td>-0.040756</td>\n",
              "      <td>0.066598</td>\n",
              "      <td>1.000000</td>\n",
              "      <td>0.332417</td>\n",
              "      <td>0.066598</td>\n",
              "      <td>NaN</td>\n",
              "      <td>-0.040756</td>\n",
              "    </tr>\n",
              "    <tr>\n",
              "      <th>DEP_DELAY</th>\n",
              "      <td>-0.015693</td>\n",
              "      <td>0.030928</td>\n",
              "      <td>0.211115</td>\n",
              "      <td>-0.018309</td>\n",
              "      <td>0.149745</td>\n",
              "      <td>0.006885</td>\n",
              "      <td>-0.011836</td>\n",
              "      <td>0.332417</td>\n",
              "      <td>1.000000</td>\n",
              "      <td>-0.011836</td>\n",
              "      <td>NaN</td>\n",
              "      <td>0.006885</td>\n",
              "    </tr>\n",
              "    <tr>\n",
              "      <th>DAY</th>\n",
              "      <td>0.999065</td>\n",
              "      <td>0.002324</td>\n",
              "      <td>0.000132</td>\n",
              "      <td>0.010121</td>\n",
              "      <td>0.144034</td>\n",
              "      <td>0.015914</td>\n",
              "      <td>1.000000</td>\n",
              "      <td>0.066598</td>\n",
              "      <td>-0.011836</td>\n",
              "      <td>1.000000</td>\n",
              "      <td>NaN</td>\n",
              "      <td>0.015914</td>\n",
              "    </tr>\n",
              "    <tr>\n",
              "      <th>MONTH</th>\n",
              "      <td>NaN</td>\n",
              "      <td>NaN</td>\n",
              "      <td>NaN</td>\n",
              "      <td>NaN</td>\n",
              "      <td>NaN</td>\n",
              "      <td>NaN</td>\n",
              "      <td>NaN</td>\n",
              "      <td>NaN</td>\n",
              "      <td>NaN</td>\n",
              "      <td>NaN</td>\n",
              "      <td>NaN</td>\n",
              "      <td>NaN</td>\n",
              "    </tr>\n",
              "    <tr>\n",
              "      <th>WEEKDAY</th>\n",
              "      <td>0.021620</td>\n",
              "      <td>0.051766</td>\n",
              "      <td>0.051868</td>\n",
              "      <td>-0.020926</td>\n",
              "      <td>-0.123636</td>\n",
              "      <td>1.000000</td>\n",
              "      <td>0.015914</td>\n",
              "      <td>-0.040756</td>\n",
              "      <td>0.006885</td>\n",
              "      <td>0.015914</td>\n",
              "      <td>NaN</td>\n",
              "      <td>1.000000</td>\n",
              "    </tr>\n",
              "  </tbody>\n",
              "</table>\n",
              "</div>"
            ],
            "text/plain": [
              "                      Unnamed: 0  CRS_DEP_TIME  DEP_TIME  DISTANCE   Weather  \\\n",
              "Unnamed: 0              1.000000      0.002847 -0.000054 -0.007065  0.142594   \n",
              "CRS_DEP_TIME            0.002847      1.000000  0.983523  0.062368 -0.008266   \n",
              "DEP_TIME               -0.000054      0.983523  1.000000  0.057680  0.019001   \n",
              "DISTANCE               -0.007065      0.062368  0.057680  1.000000  0.033104   \n",
              "Weather                 0.142594     -0.008266  0.019001  0.033104  1.000000   \n",
              "DAY_WEEK                0.021620      0.051766  0.051868 -0.020926 -0.123636   \n",
              "DAY_OF_MONTH            0.999065      0.002324  0.000132  0.010121  0.144034   \n",
              "Flight_Status_binary    0.065400      0.112474  0.170116 -0.018794  0.247217   \n",
              "DEP_DELAY              -0.015693      0.030928  0.211115 -0.018309  0.149745   \n",
              "DAY                     0.999065      0.002324  0.000132  0.010121  0.144034   \n",
              "MONTH                        NaN           NaN       NaN       NaN       NaN   \n",
              "WEEKDAY                 0.021620      0.051766  0.051868 -0.020926 -0.123636   \n",
              "\n",
              "                      DAY_WEEK  DAY_OF_MONTH  Flight_Status_binary  DEP_DELAY  \\\n",
              "Unnamed: 0            0.021620      0.999065              0.065400  -0.015693   \n",
              "CRS_DEP_TIME          0.051766      0.002324              0.112474   0.030928   \n",
              "DEP_TIME              0.051868      0.000132              0.170116   0.211115   \n",
              "DISTANCE             -0.020926      0.010121             -0.018794  -0.018309   \n",
              "Weather              -0.123636      0.144034              0.247217   0.149745   \n",
              "DAY_WEEK              1.000000      0.015914             -0.040756   0.006885   \n",
              "DAY_OF_MONTH          0.015914      1.000000              0.066598  -0.011836   \n",
              "Flight_Status_binary -0.040756      0.066598              1.000000   0.332417   \n",
              "DEP_DELAY             0.006885     -0.011836              0.332417   1.000000   \n",
              "DAY                   0.015914      1.000000              0.066598  -0.011836   \n",
              "MONTH                      NaN           NaN                   NaN        NaN   \n",
              "WEEKDAY               1.000000      0.015914             -0.040756   0.006885   \n",
              "\n",
              "                           DAY  MONTH   WEEKDAY  \n",
              "Unnamed: 0            0.999065    NaN  0.021620  \n",
              "CRS_DEP_TIME          0.002324    NaN  0.051766  \n",
              "DEP_TIME              0.000132    NaN  0.051868  \n",
              "DISTANCE              0.010121    NaN -0.020926  \n",
              "Weather               0.144034    NaN -0.123636  \n",
              "DAY_WEEK              0.015914    NaN  1.000000  \n",
              "DAY_OF_MONTH          1.000000    NaN  0.015914  \n",
              "Flight_Status_binary  0.066598    NaN -0.040756  \n",
              "DEP_DELAY            -0.011836    NaN  0.006885  \n",
              "DAY                   1.000000    NaN  0.015914  \n",
              "MONTH                      NaN    NaN       NaN  \n",
              "WEEKDAY               0.015914    NaN  1.000000  "
            ]
          },
          "metadata": {
            "tags": []
          },
          "execution_count": 36
        }
      ]
    },
    {
      "cell_type": "code",
      "metadata": {
        "id": "QmlAuxIDjS8Q"
      },
      "source": [
        "df1 = df1.drop(columns=['MONTH'])"
      ],
      "execution_count": null,
      "outputs": []
    },
    {
      "cell_type": "code",
      "metadata": {
        "colab": {
          "base_uri": "https://localhost:8080/",
          "height": 195
        },
        "id": "2cmfBm0yix3Y",
        "outputId": "ebf0ee79-16ce-4d10-8e97-91e189626832"
      },
      "source": [
        "df1.head()"
      ],
      "execution_count": null,
      "outputs": [
        {
          "output_type": "execute_result",
          "data": {
            "text/html": [
              "<div>\n",
              "<style scoped>\n",
              "    .dataframe tbody tr th:only-of-type {\n",
              "        vertical-align: middle;\n",
              "    }\n",
              "\n",
              "    .dataframe tbody tr th {\n",
              "        vertical-align: top;\n",
              "    }\n",
              "\n",
              "    .dataframe thead th {\n",
              "        text-align: right;\n",
              "    }\n",
              "</style>\n",
              "<table border=\"1\" class=\"dataframe\">\n",
              "  <thead>\n",
              "    <tr style=\"text-align: right;\">\n",
              "      <th></th>\n",
              "      <th>Unnamed: 0</th>\n",
              "      <th>CRS_DEP_TIME</th>\n",
              "      <th>DEP_TIME</th>\n",
              "      <th>DISTANCE</th>\n",
              "      <th>Weather</th>\n",
              "      <th>DAY_WEEK</th>\n",
              "      <th>DAY_OF_MONTH</th>\n",
              "      <th>Flight_Status_binary</th>\n",
              "      <th>DEP_DELAY</th>\n",
              "      <th>DAY</th>\n",
              "      <th>WEEKDAY</th>\n",
              "    </tr>\n",
              "  </thead>\n",
              "  <tbody>\n",
              "    <tr>\n",
              "      <th>0</th>\n",
              "      <td>0</td>\n",
              "      <td>1455</td>\n",
              "      <td>1455</td>\n",
              "      <td>184</td>\n",
              "      <td>0</td>\n",
              "      <td>4</td>\n",
              "      <td>1</td>\n",
              "      <td>0</td>\n",
              "      <td>0</td>\n",
              "      <td>1</td>\n",
              "      <td>3</td>\n",
              "    </tr>\n",
              "    <tr>\n",
              "      <th>1</th>\n",
              "      <td>1</td>\n",
              "      <td>1640</td>\n",
              "      <td>1640</td>\n",
              "      <td>213</td>\n",
              "      <td>0</td>\n",
              "      <td>4</td>\n",
              "      <td>1</td>\n",
              "      <td>0</td>\n",
              "      <td>0</td>\n",
              "      <td>1</td>\n",
              "      <td>3</td>\n",
              "    </tr>\n",
              "    <tr>\n",
              "      <th>2</th>\n",
              "      <td>2</td>\n",
              "      <td>1245</td>\n",
              "      <td>1245</td>\n",
              "      <td>229</td>\n",
              "      <td>0</td>\n",
              "      <td>4</td>\n",
              "      <td>1</td>\n",
              "      <td>0</td>\n",
              "      <td>0</td>\n",
              "      <td>1</td>\n",
              "      <td>3</td>\n",
              "    </tr>\n",
              "    <tr>\n",
              "      <th>3</th>\n",
              "      <td>3</td>\n",
              "      <td>1715</td>\n",
              "      <td>1709</td>\n",
              "      <td>229</td>\n",
              "      <td>0</td>\n",
              "      <td>4</td>\n",
              "      <td>1</td>\n",
              "      <td>0</td>\n",
              "      <td>-6</td>\n",
              "      <td>1</td>\n",
              "      <td>3</td>\n",
              "    </tr>\n",
              "    <tr>\n",
              "      <th>4</th>\n",
              "      <td>4</td>\n",
              "      <td>1039</td>\n",
              "      <td>1035</td>\n",
              "      <td>229</td>\n",
              "      <td>0</td>\n",
              "      <td>4</td>\n",
              "      <td>1</td>\n",
              "      <td>0</td>\n",
              "      <td>-4</td>\n",
              "      <td>1</td>\n",
              "      <td>3</td>\n",
              "    </tr>\n",
              "  </tbody>\n",
              "</table>\n",
              "</div>"
            ],
            "text/plain": [
              "   Unnamed: 0  CRS_DEP_TIME  DEP_TIME  DISTANCE  Weather  DAY_WEEK  \\\n",
              "0           0          1455      1455       184        0         4   \n",
              "1           1          1640      1640       213        0         4   \n",
              "2           2          1245      1245       229        0         4   \n",
              "3           3          1715      1709       229        0         4   \n",
              "4           4          1039      1035       229        0         4   \n",
              "\n",
              "   DAY_OF_MONTH  Flight_Status_binary  DEP_DELAY  DAY  WEEKDAY  \n",
              "0             1                     0          0    1        3  \n",
              "1             1                     0          0    1        3  \n",
              "2             1                     0          0    1        3  \n",
              "3             1                     0         -6    1        3  \n",
              "4             1                     0         -4    1        3  "
            ]
          },
          "metadata": {
            "tags": []
          },
          "execution_count": 38
        }
      ]
    },
    {
      "cell_type": "code",
      "metadata": {
        "id": "W3NOMr7ujbeU"
      },
      "source": [
        "df1.corr()\n"
      ],
      "execution_count": null,
      "outputs": []
    },
    {
      "cell_type": "code",
      "metadata": {
        "id": "plLiQ6hbjgm6"
      },
      "source": [
        "abs(df1.corr())>.75\n"
      ],
      "execution_count": null,
      "outputs": []
    },
    {
      "cell_type": "code",
      "metadata": {
        "id": "GOl61leujyxF"
      },
      "source": [
        "plt.figure(figsize=(20,14))\n",
        "ax = sns.heatmap(df1.corr(), cmap='viridis', center=0, annot=True)\n",
        "bottom, top = ax.get_ylim()\n",
        "plt.text(0,-0.6, \"df2 - Heat Map\", fontsize = 30, color='Black', fontstyle='normal')\n",
        "ax.set_ylim(bottom + 0.5, top - 0.5)\n",
        "plt.yticks(rotation=0, fontsize=14)\n",
        "plt.xticks(rotation=90, fontsize=14)\n",
        "plt.show()"
      ],
      "execution_count": null,
      "outputs": []
    },
    {
      "cell_type": "code",
      "metadata": {
        "colab": {
          "base_uri": "https://localhost:8080/",
          "height": 195
        },
        "id": "K_kcGqkLlNUS",
        "outputId": "2125544c-e729-482a-f9c7-87f4e3faeecd"
      },
      "source": [
        "df1.head()"
      ],
      "execution_count": null,
      "outputs": [
        {
          "output_type": "execute_result",
          "data": {
            "text/html": [
              "<div>\n",
              "<style scoped>\n",
              "    .dataframe tbody tr th:only-of-type {\n",
              "        vertical-align: middle;\n",
              "    }\n",
              "\n",
              "    .dataframe tbody tr th {\n",
              "        vertical-align: top;\n",
              "    }\n",
              "\n",
              "    .dataframe thead th {\n",
              "        text-align: right;\n",
              "    }\n",
              "</style>\n",
              "<table border=\"1\" class=\"dataframe\">\n",
              "  <thead>\n",
              "    <tr style=\"text-align: right;\">\n",
              "      <th></th>\n",
              "      <th>Unnamed: 0</th>\n",
              "      <th>CRS_DEP_TIME</th>\n",
              "      <th>DEP_TIME</th>\n",
              "      <th>DISTANCE</th>\n",
              "      <th>Weather</th>\n",
              "      <th>DAY_WEEK</th>\n",
              "      <th>DAY_OF_MONTH</th>\n",
              "      <th>Flight_Status_binary</th>\n",
              "      <th>DEP_DELAY</th>\n",
              "      <th>DAY</th>\n",
              "      <th>WEEKDAY</th>\n",
              "    </tr>\n",
              "  </thead>\n",
              "  <tbody>\n",
              "    <tr>\n",
              "      <th>0</th>\n",
              "      <td>0</td>\n",
              "      <td>1455</td>\n",
              "      <td>1455</td>\n",
              "      <td>184</td>\n",
              "      <td>0</td>\n",
              "      <td>4</td>\n",
              "      <td>1</td>\n",
              "      <td>0</td>\n",
              "      <td>0</td>\n",
              "      <td>1</td>\n",
              "      <td>3</td>\n",
              "    </tr>\n",
              "    <tr>\n",
              "      <th>1</th>\n",
              "      <td>1</td>\n",
              "      <td>1640</td>\n",
              "      <td>1640</td>\n",
              "      <td>213</td>\n",
              "      <td>0</td>\n",
              "      <td>4</td>\n",
              "      <td>1</td>\n",
              "      <td>0</td>\n",
              "      <td>0</td>\n",
              "      <td>1</td>\n",
              "      <td>3</td>\n",
              "    </tr>\n",
              "    <tr>\n",
              "      <th>2</th>\n",
              "      <td>2</td>\n",
              "      <td>1245</td>\n",
              "      <td>1245</td>\n",
              "      <td>229</td>\n",
              "      <td>0</td>\n",
              "      <td>4</td>\n",
              "      <td>1</td>\n",
              "      <td>0</td>\n",
              "      <td>0</td>\n",
              "      <td>1</td>\n",
              "      <td>3</td>\n",
              "    </tr>\n",
              "    <tr>\n",
              "      <th>3</th>\n",
              "      <td>3</td>\n",
              "      <td>1715</td>\n",
              "      <td>1709</td>\n",
              "      <td>229</td>\n",
              "      <td>0</td>\n",
              "      <td>4</td>\n",
              "      <td>1</td>\n",
              "      <td>0</td>\n",
              "      <td>-6</td>\n",
              "      <td>1</td>\n",
              "      <td>3</td>\n",
              "    </tr>\n",
              "    <tr>\n",
              "      <th>4</th>\n",
              "      <td>4</td>\n",
              "      <td>1039</td>\n",
              "      <td>1035</td>\n",
              "      <td>229</td>\n",
              "      <td>0</td>\n",
              "      <td>4</td>\n",
              "      <td>1</td>\n",
              "      <td>0</td>\n",
              "      <td>-4</td>\n",
              "      <td>1</td>\n",
              "      <td>3</td>\n",
              "    </tr>\n",
              "  </tbody>\n",
              "</table>\n",
              "</div>"
            ],
            "text/plain": [
              "   Unnamed: 0  CRS_DEP_TIME  DEP_TIME  DISTANCE  Weather  DAY_WEEK  \\\n",
              "0           0          1455      1455       184        0         4   \n",
              "1           1          1640      1640       213        0         4   \n",
              "2           2          1245      1245       229        0         4   \n",
              "3           3          1715      1709       229        0         4   \n",
              "4           4          1039      1035       229        0         4   \n",
              "\n",
              "   DAY_OF_MONTH  Flight_Status_binary  DEP_DELAY  DAY  WEEKDAY  \n",
              "0             1                     0          0    1        3  \n",
              "1             1                     0          0    1        3  \n",
              "2             1                     0          0    1        3  \n",
              "3             1                     0         -6    1        3  \n",
              "4             1                     0         -4    1        3  "
            ]
          },
          "metadata": {
            "tags": []
          },
          "execution_count": 43
        }
      ]
    },
    {
      "cell_type": "code",
      "metadata": {
        "id": "naCE4th_B46K"
      },
      "source": [
        "df1 = df1.drop(columns=['CARRIER','DEST','ORIGIN','Flight Status'])\n",
        "df1.head()"
      ],
      "execution_count": null,
      "outputs": []
    },
    {
      "cell_type": "code",
      "metadata": {
        "id": "1R0kjW2ZDNuA"
      },
      "source": [
        "df1 = df1.drop([\"Unnamed: 0\"], axis=1)"
      ],
      "execution_count": null,
      "outputs": []
    },
    {
      "cell_type": "code",
      "metadata": {
        "colab": {
          "base_uri": "https://localhost:8080/",
          "height": 195
        },
        "id": "ubbxwC7XDwZR",
        "outputId": "186249a2-f48d-446e-c14a-940f0b82733a"
      },
      "source": [
        "df1.head()"
      ],
      "execution_count": null,
      "outputs": [
        {
          "output_type": "execute_result",
          "data": {
            "text/html": [
              "<div>\n",
              "<style scoped>\n",
              "    .dataframe tbody tr th:only-of-type {\n",
              "        vertical-align: middle;\n",
              "    }\n",
              "\n",
              "    .dataframe tbody tr th {\n",
              "        vertical-align: top;\n",
              "    }\n",
              "\n",
              "    .dataframe thead th {\n",
              "        text-align: right;\n",
              "    }\n",
              "</style>\n",
              "<table border=\"1\" class=\"dataframe\">\n",
              "  <thead>\n",
              "    <tr style=\"text-align: right;\">\n",
              "      <th></th>\n",
              "      <th>CRS_DEP_TIME</th>\n",
              "      <th>DEP_TIME</th>\n",
              "      <th>DISTANCE</th>\n",
              "      <th>Weather</th>\n",
              "      <th>DAY_WEEK</th>\n",
              "      <th>DAY_OF_MONTH</th>\n",
              "      <th>Flight_Status_binary</th>\n",
              "      <th>DEP_DELAY</th>\n",
              "      <th>DAY</th>\n",
              "      <th>WEEKDAY</th>\n",
              "    </tr>\n",
              "  </thead>\n",
              "  <tbody>\n",
              "    <tr>\n",
              "      <th>0</th>\n",
              "      <td>1455</td>\n",
              "      <td>1455</td>\n",
              "      <td>184</td>\n",
              "      <td>0</td>\n",
              "      <td>4</td>\n",
              "      <td>1</td>\n",
              "      <td>0</td>\n",
              "      <td>0</td>\n",
              "      <td>1</td>\n",
              "      <td>3</td>\n",
              "    </tr>\n",
              "    <tr>\n",
              "      <th>1</th>\n",
              "      <td>1640</td>\n",
              "      <td>1640</td>\n",
              "      <td>213</td>\n",
              "      <td>0</td>\n",
              "      <td>4</td>\n",
              "      <td>1</td>\n",
              "      <td>0</td>\n",
              "      <td>0</td>\n",
              "      <td>1</td>\n",
              "      <td>3</td>\n",
              "    </tr>\n",
              "    <tr>\n",
              "      <th>2</th>\n",
              "      <td>1245</td>\n",
              "      <td>1245</td>\n",
              "      <td>229</td>\n",
              "      <td>0</td>\n",
              "      <td>4</td>\n",
              "      <td>1</td>\n",
              "      <td>0</td>\n",
              "      <td>0</td>\n",
              "      <td>1</td>\n",
              "      <td>3</td>\n",
              "    </tr>\n",
              "    <tr>\n",
              "      <th>3</th>\n",
              "      <td>1715</td>\n",
              "      <td>1709</td>\n",
              "      <td>229</td>\n",
              "      <td>0</td>\n",
              "      <td>4</td>\n",
              "      <td>1</td>\n",
              "      <td>0</td>\n",
              "      <td>-6</td>\n",
              "      <td>1</td>\n",
              "      <td>3</td>\n",
              "    </tr>\n",
              "    <tr>\n",
              "      <th>4</th>\n",
              "      <td>1039</td>\n",
              "      <td>1035</td>\n",
              "      <td>229</td>\n",
              "      <td>0</td>\n",
              "      <td>4</td>\n",
              "      <td>1</td>\n",
              "      <td>0</td>\n",
              "      <td>-4</td>\n",
              "      <td>1</td>\n",
              "      <td>3</td>\n",
              "    </tr>\n",
              "  </tbody>\n",
              "</table>\n",
              "</div>"
            ],
            "text/plain": [
              "   CRS_DEP_TIME  DEP_TIME  DISTANCE  Weather  DAY_WEEK  DAY_OF_MONTH  \\\n",
              "0          1455      1455       184        0         4             1   \n",
              "1          1640      1640       213        0         4             1   \n",
              "2          1245      1245       229        0         4             1   \n",
              "3          1715      1709       229        0         4             1   \n",
              "4          1039      1035       229        0         4             1   \n",
              "\n",
              "   Flight_Status_binary  DEP_DELAY  DAY  WEEKDAY  \n",
              "0                     0          0    1        3  \n",
              "1                     0          0    1        3  \n",
              "2                     0          0    1        3  \n",
              "3                     0         -6    1        3  \n",
              "4                     0         -4    1        3  "
            ]
          },
          "metadata": {
            "tags": []
          },
          "execution_count": 48
        }
      ]
    },
    {
      "cell_type": "code",
      "metadata": {
        "colab": {
          "base_uri": "https://localhost:8080/"
        },
        "id": "ni-NtXHfDzU_",
        "outputId": "b5a61aa6-1b78-4856-9089-489c6831f924"
      },
      "source": [
        "df1.info()"
      ],
      "execution_count": null,
      "outputs": [
        {
          "output_type": "stream",
          "text": [
            "<class 'pandas.core.frame.DataFrame'>\n",
            "RangeIndex: 2201 entries, 0 to 2200\n",
            "Data columns (total 10 columns):\n",
            " #   Column                Non-Null Count  Dtype\n",
            "---  ------                --------------  -----\n",
            " 0   CRS_DEP_TIME          2201 non-null   int64\n",
            " 1   DEP_TIME              2201 non-null   int64\n",
            " 2   DISTANCE              2201 non-null   int64\n",
            " 3   Weather               2201 non-null   int64\n",
            " 4   DAY_WEEK              2201 non-null   int64\n",
            " 5   DAY_OF_MONTH          2201 non-null   int64\n",
            " 6   Flight_Status_binary  2201 non-null   int64\n",
            " 7   DEP_DELAY             2201 non-null   int64\n",
            " 8   DAY                   2201 non-null   int64\n",
            " 9   WEEKDAY               2201 non-null   int64\n",
            "dtypes: int64(10)\n",
            "memory usage: 172.1 KB\n"
          ],
          "name": "stdout"
        }
      ]
    },
    {
      "cell_type": "code",
      "metadata": {
        "id": "UWL61uP-D3bs"
      },
      "source": [
        "y = df1['Flight_Status_binary']\n",
        "X = df1.drop(['Flight_Status_binary'], axis = 1)"
      ],
      "execution_count": null,
      "outputs": []
    },
    {
      "cell_type": "code",
      "metadata": {
        "id": "ynzNT_pSEG7Q"
      },
      "source": [
        "from sklearn.model_selection import train_test_split\n",
        "\n",
        "X_test, X_train, y_test, y_train = train_test_split(X, y, test_size=0.25, random_state=42)"
      ],
      "execution_count": null,
      "outputs": []
    },
    {
      "cell_type": "code",
      "metadata": {
        "colab": {
          "base_uri": "https://localhost:8080/"
        },
        "id": "pzwVVolrEUr3",
        "outputId": "ac48576b-332b-474d-e9f7-47380023ccee"
      },
      "source": [
        "from sklearn.linear_model import LogisticRegression\n",
        "Lr=LogisticRegression()\n",
        "Lr.fit(X_train,y_train)"
      ],
      "execution_count": null,
      "outputs": [
        {
          "output_type": "execute_result",
          "data": {
            "text/plain": [
              "LogisticRegression(C=1.0, class_weight=None, dual=False, fit_intercept=True,\n",
              "                   intercept_scaling=1, l1_ratio=None, max_iter=100,\n",
              "                   multi_class='auto', n_jobs=None, penalty='l2',\n",
              "                   random_state=None, solver='lbfgs', tol=0.0001, verbose=0,\n",
              "                   warm_start=False)"
            ]
          },
          "metadata": {
            "tags": []
          },
          "execution_count": 53
        }
      ]
    },
    {
      "cell_type": "code",
      "metadata": {
        "colab": {
          "base_uri": "https://localhost:8080/"
        },
        "id": "CBel--22EpFz",
        "outputId": "bc84b028-6513-4147-e302-6ffce237e956"
      },
      "source": [
        "print('Logestic Regression Accuracy:',Lr.score(X_test,y_test)) "
      ],
      "execution_count": null,
      "outputs": [
        {
          "output_type": "stream",
          "text": [
            "Logestic Regression Accuracy: 0.8981818181818182\n"
          ],
          "name": "stdout"
        }
      ]
    },
    {
      "cell_type": "code",
      "metadata": {
        "id": "A7piRWSLHhBm"
      },
      "source": [
        "Lr_train_preds = Lr.predict(X_train)\n",
        "Lr_test_preds = Lr.predict(X_test)"
      ],
      "execution_count": null,
      "outputs": []
    },
    {
      "cell_type": "code",
      "metadata": {
        "id": "bN2RpsLjIM7C"
      },
      "source": [
        "from sklearn.metrics import accuracy_score\n",
        "from sklearn.metrics import accuracy_score, f1_score, confusion_matrix, classification_report"
      ],
      "execution_count": null,
      "outputs": []
    },
    {
      "cell_type": "code",
      "metadata": {
        "colab": {
          "base_uri": "https://localhost:8080/"
        },
        "id": "vvjEWOpeHSL8",
        "outputId": "0d3a3017-94bc-4a92-f4f9-909d8af148e0"
      },
      "source": [
        "def display_acc_and_f1_score(true, preds, model_name):\n",
        "    acc = accuracy_score(true, preds)\n",
        "    f1 = f1_score(true, preds)\n",
        "    print(\"Model: {}\".format(model_name))\n",
        "    print(\"Accuracy: {}\".format(acc))\n",
        "    print(\"F1-Score: {}\".format(f1))\n",
        "    \n",
        "print(\"Training Metrics\")\n",
        "print('----------------------------')\n",
        "display_acc_and_f1_score(y_train, Lr_train_preds, model_name='Logestic Regression')\n",
        "print(\"\")\n",
        "\n",
        "print(\"Testing Metrics\")\n",
        "print('----------------------------')\n",
        "display_acc_and_f1_score(y_test,Lr_test_preds, model_name='Logestic Regression')\n",
        "print(\"\")\n"
      ],
      "execution_count": null,
      "outputs": [
        {
          "output_type": "stream",
          "text": [
            "Training Metrics\n",
            "----------------------------\n",
            "Model: Logestic Regression\n",
            "Accuracy: 0.9019963702359347\n",
            "F1-Score: 0.6707317073170732\n",
            "\n",
            "Testing Metrics\n",
            "----------------------------\n",
            "Model: Logestic Regression\n",
            "Accuracy: 0.8981818181818182\n",
            "F1-Score: 0.6806083650190115\n",
            "\n"
          ],
          "name": "stdout"
        }
      ]
    },
    {
      "cell_type": "code",
      "metadata": {
        "id": "FIZDbqiuIYUi"
      },
      "source": [
        "from sklearn.metrics import confusion_matrix"
      ],
      "execution_count": null,
      "outputs": []
    },
    {
      "cell_type": "code",
      "metadata": {
        "colab": {
          "base_uri": "https://localhost:8080/"
        },
        "id": "O_tjOclnIqXc",
        "outputId": "ea39058e-3aaa-4d1f-b7c3-d1281fcab135"
      },
      "source": [
        "Lr_confusion_matrix = confusion_matrix(y_test, Lr_test_preds)\n",
        "Lr_confusion_matrix"
      ],
      "execution_count": null,
      "outputs": [
        {
          "output_type": "execute_result",
          "data": {
            "text/plain": [
              "array([[1303,   25],\n",
              "       [ 143,  179]])"
            ]
          },
          "metadata": {
            "tags": []
          },
          "execution_count": 62
        }
      ]
    },
    {
      "cell_type": "code",
      "metadata": {
        "colab": {
          "base_uri": "https://localhost:8080/"
        },
        "id": "cfN9DgMuIyNv",
        "outputId": "a89b2caf-45f3-4194-b72d-520c83d48f79"
      },
      "source": [
        "Lr_classification_report = classification_report(y_test, Lr_test_preds)\n",
        "print(Lr_classification_report)"
      ],
      "execution_count": null,
      "outputs": [
        {
          "output_type": "stream",
          "text": [
            "              precision    recall  f1-score   support\n",
            "\n",
            "           0       0.90      0.98      0.94      1328\n",
            "           1       0.88      0.56      0.68       322\n",
            "\n",
            "    accuracy                           0.90      1650\n",
            "   macro avg       0.89      0.77      0.81      1650\n",
            "weighted avg       0.90      0.90      0.89      1650\n",
            "\n"
          ],
          "name": "stdout"
        }
      ]
    },
    {
      "cell_type": "code",
      "metadata": {
        "id": "pNez0uGkJMuW"
      },
      "source": [
        "from sklearn.model_selection import  GridSearchCV, cross_val_score"
      ],
      "execution_count": null,
      "outputs": []
    },
    {
      "cell_type": "code",
      "metadata": {
        "colab": {
          "base_uri": "https://localhost:8080/"
        },
        "id": "Gv4pnI-_I_fY",
        "outputId": "c4cce458-2063-49a8-9442-b7006b90d62b"
      },
      "source": [
        "print('Mean Lr Cross-Val Score (k=5):')\n",
        "print(cross_val_score(Lr, X, y, cv=5).mean())"
      ],
      "execution_count": null,
      "outputs": [
        {
          "output_type": "stream",
          "text": [
            "Mean Lr Cross-Val Score (k=5):\n",
            "0.8895908060193773\n"
          ],
          "name": "stdout"
        }
      ]
    },
    {
      "cell_type": "code",
      "metadata": {
        "colab": {
          "base_uri": "https://localhost:8080/",
          "height": 195
        },
        "id": "z9wxN9NwMmSV",
        "outputId": "583067b0-0e35-4135-f358-8f4b195ba795"
      },
      "source": [
        "df1.head()"
      ],
      "execution_count": null,
      "outputs": [
        {
          "output_type": "execute_result",
          "data": {
            "text/html": [
              "<div>\n",
              "<style scoped>\n",
              "    .dataframe tbody tr th:only-of-type {\n",
              "        vertical-align: middle;\n",
              "    }\n",
              "\n",
              "    .dataframe tbody tr th {\n",
              "        vertical-align: top;\n",
              "    }\n",
              "\n",
              "    .dataframe thead th {\n",
              "        text-align: right;\n",
              "    }\n",
              "</style>\n",
              "<table border=\"1\" class=\"dataframe\">\n",
              "  <thead>\n",
              "    <tr style=\"text-align: right;\">\n",
              "      <th></th>\n",
              "      <th>CRS_DEP_TIME</th>\n",
              "      <th>DEP_TIME</th>\n",
              "      <th>DISTANCE</th>\n",
              "      <th>Weather</th>\n",
              "      <th>DAY_WEEK</th>\n",
              "      <th>DAY_OF_MONTH</th>\n",
              "      <th>Flight_Status_binary</th>\n",
              "      <th>DEP_DELAY</th>\n",
              "      <th>DAY</th>\n",
              "      <th>WEEKDAY</th>\n",
              "    </tr>\n",
              "  </thead>\n",
              "  <tbody>\n",
              "    <tr>\n",
              "      <th>0</th>\n",
              "      <td>1455</td>\n",
              "      <td>1455</td>\n",
              "      <td>184</td>\n",
              "      <td>0</td>\n",
              "      <td>4</td>\n",
              "      <td>1</td>\n",
              "      <td>0</td>\n",
              "      <td>0</td>\n",
              "      <td>1</td>\n",
              "      <td>3</td>\n",
              "    </tr>\n",
              "    <tr>\n",
              "      <th>1</th>\n",
              "      <td>1640</td>\n",
              "      <td>1640</td>\n",
              "      <td>213</td>\n",
              "      <td>0</td>\n",
              "      <td>4</td>\n",
              "      <td>1</td>\n",
              "      <td>0</td>\n",
              "      <td>0</td>\n",
              "      <td>1</td>\n",
              "      <td>3</td>\n",
              "    </tr>\n",
              "    <tr>\n",
              "      <th>2</th>\n",
              "      <td>1245</td>\n",
              "      <td>1245</td>\n",
              "      <td>229</td>\n",
              "      <td>0</td>\n",
              "      <td>4</td>\n",
              "      <td>1</td>\n",
              "      <td>0</td>\n",
              "      <td>0</td>\n",
              "      <td>1</td>\n",
              "      <td>3</td>\n",
              "    </tr>\n",
              "    <tr>\n",
              "      <th>3</th>\n",
              "      <td>1715</td>\n",
              "      <td>1709</td>\n",
              "      <td>229</td>\n",
              "      <td>0</td>\n",
              "      <td>4</td>\n",
              "      <td>1</td>\n",
              "      <td>0</td>\n",
              "      <td>-6</td>\n",
              "      <td>1</td>\n",
              "      <td>3</td>\n",
              "    </tr>\n",
              "    <tr>\n",
              "      <th>4</th>\n",
              "      <td>1039</td>\n",
              "      <td>1035</td>\n",
              "      <td>229</td>\n",
              "      <td>0</td>\n",
              "      <td>4</td>\n",
              "      <td>1</td>\n",
              "      <td>0</td>\n",
              "      <td>-4</td>\n",
              "      <td>1</td>\n",
              "      <td>3</td>\n",
              "    </tr>\n",
              "  </tbody>\n",
              "</table>\n",
              "</div>"
            ],
            "text/plain": [
              "   CRS_DEP_TIME  DEP_TIME  DISTANCE  Weather  DAY_WEEK  DAY_OF_MONTH  \\\n",
              "0          1455      1455       184        0         4             1   \n",
              "1          1640      1640       213        0         4             1   \n",
              "2          1245      1245       229        0         4             1   \n",
              "3          1715      1709       229        0         4             1   \n",
              "4          1039      1035       229        0         4             1   \n",
              "\n",
              "   Flight_Status_binary  DEP_DELAY  DAY  WEEKDAY  \n",
              "0                     0          0    1        3  \n",
              "1                     0          0    1        3  \n",
              "2                     0          0    1        3  \n",
              "3                     0         -6    1        3  \n",
              "4                     0         -4    1        3  "
            ]
          },
          "metadata": {
            "tags": []
          },
          "execution_count": 68
        }
      ]
    },
    {
      "cell_type": "code",
      "metadata": {
        "colab": {
          "base_uri": "https://localhost:8080/"
        },
        "id": "5ctFAdxpMHF8",
        "outputId": "721c6f88-7655-4957-fc8f-ec3eb4c9b603"
      },
      "source": [
        "\n",
        "l=[[1500,1725,150,0,4,1,175,1,3],[1500,1515,150,0,4,1,-15,1,3]]\n",
        "\n",
        "#ypred=Lr.predict(X)\n",
        "f1=Lr.predict(l)\n",
        "print('Logistic regression:')\n",
        "\n",
        "for i in range(len(f1)):\n",
        "\n",
        "    if (int(f1[i])==1):\n",
        "        print(f1[i],\"- Flight Delay\")\n",
        "    else:\n",
        "        print(f1[i],\"- no delay\")"
      ],
      "execution_count": null,
      "outputs": [
        {
          "output_type": "stream",
          "text": [
            "Logistic regression:\n",
            "1 - Flight Delay\n",
            "0 - no delay\n"
          ],
          "name": "stdout"
        }
      ]
    },
    {
      "cell_type": "code",
      "metadata": {
        "colab": {
          "base_uri": "https://localhost:8080/"
        },
        "id": "FJTVVTbDOxDb",
        "outputId": "ef84c52c-797e-4789-cd8f-4cd1246759a8"
      },
      "source": [
        "print(Lr.score(X_test,y_test))"
      ],
      "execution_count": null,
      "outputs": [
        {
          "output_type": "stream",
          "text": [
            "0.8981818181818182\n"
          ],
          "name": "stdout"
        }
      ]
    }
  ]
}