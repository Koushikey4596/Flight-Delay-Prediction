{
  "nbformat": 4,
  "nbformat_minor": 0,
  "metadata": {
    "colab": {
      "name": "FlightData_preprocessing.ipynb",
      "provenance": [],
      "mount_file_id": "1LaxxBA-9hv3Ni6Dged7tXWCnjURPP9qk",
      "authorship_tag": "ABX9TyNapdvhHTGpWm9AHXIt9oG7",
      "include_colab_link": true
    },
    "kernelspec": {
      "name": "python3",
      "display_name": "Python 3"
    }
  },
  "cells": [
    {
      "cell_type": "markdown",
      "metadata": {
        "id": "view-in-github",
        "colab_type": "text"
      },
      "source": [
        "<a href=\"https://colab.research.google.com/github/Koushikey4596/Flight-Delay-Prediction/blob/main/FlightData_preprocessing.ipynb\" target=\"_parent\"><img src=\"https://colab.research.google.com/assets/colab-badge.svg\" alt=\"Open In Colab\"/></a>"
      ]
    },
    {
      "cell_type": "code",
      "metadata": {
        "id": "Z409CB-OYFPA"
      },
      "source": [
        "import pandas as pd\n",
        "import numpy as np\n",
        "import matplotlib.pyplot as plt\n",
        "%matplotlib inline\n",
        "import seaborn as sns\n",
        "pd.set_option('display.max_columns', None)\n",
        "import datetime, warnings, scipy\n",
        "warnings.filterwarnings(\"ignore\")"
      ],
      "execution_count": null,
      "outputs": []
    },
    {
      "cell_type": "code",
      "metadata": {
        "colab": {
          "base_uri": "https://localhost:8080/"
        },
        "id": "1C8znfpVjevh",
        "outputId": "8fcc3014-518c-40be-d579-cef4a5f2d65d"
      },
      "source": [
        "!pip install scikit-learn\n",
        "!pip install numpy\n",
        "import numpy as np\n",
        "import scipy \n",
        "from scipy.stats import spearmanr\n",
        "\n",
        "from sklearn.linear_model import LogisticRegression\n",
        "from sklearn.model_selection import train_test_split"
      ],
      "execution_count": null,
      "outputs": [
        {
          "output_type": "stream",
          "text": [
            "Requirement already satisfied: scikit-learn in /usr/local/lib/python3.7/dist-packages (0.22.2.post1)\n",
            "Requirement already satisfied: joblib>=0.11 in /usr/local/lib/python3.7/dist-packages (from scikit-learn) (1.0.1)\n",
            "Requirement already satisfied: scipy>=0.17.0 in /usr/local/lib/python3.7/dist-packages (from scikit-learn) (1.4.1)\n",
            "Requirement already satisfied: numpy>=1.11.0 in /usr/local/lib/python3.7/dist-packages (from scikit-learn) (1.19.5)\n",
            "Requirement already satisfied: numpy in /usr/local/lib/python3.7/dist-packages (1.19.5)\n"
          ],
          "name": "stdout"
        }
      ]
    },
    {
      "cell_type": "code",
      "metadata": {
        "colab": {
          "base_uri": "https://localhost:8080/",
          "height": 212
        },
        "id": "ES09XLmlXKFr",
        "outputId": "70dba98d-c611-4635-fbaf-740237e821d7"
      },
      "source": [
        "df1 = pd.read_csv('/content/drive/MyDrive/FlightDelays.csv', index_col=0)\n",
        "df1.head(2).append(df1.tail(2))"
      ],
      "execution_count": null,
      "outputs": [
        {
          "output_type": "execute_result",
          "data": {
            "text/html": [
              "<div>\n",
              "<style scoped>\n",
              "    .dataframe tbody tr th:only-of-type {\n",
              "        vertical-align: middle;\n",
              "    }\n",
              "\n",
              "    .dataframe tbody tr th {\n",
              "        vertical-align: top;\n",
              "    }\n",
              "\n",
              "    .dataframe thead th {\n",
              "        text-align: right;\n",
              "    }\n",
              "</style>\n",
              "<table border=\"1\" class=\"dataframe\">\n",
              "  <thead>\n",
              "    <tr style=\"text-align: right;\">\n",
              "      <th></th>\n",
              "      <th>CARRIER</th>\n",
              "      <th>DEP_TIME</th>\n",
              "      <th>DEST</th>\n",
              "      <th>DISTANCE</th>\n",
              "      <th>FL_DATE</th>\n",
              "      <th>FL_NUM</th>\n",
              "      <th>ORIGIN</th>\n",
              "      <th>Weather</th>\n",
              "      <th>DAY_WEEK</th>\n",
              "      <th>DAY_OF_MONTH</th>\n",
              "      <th>TAIL_NUM</th>\n",
              "      <th>Flight Status</th>\n",
              "      <th>Flight_Status_binary</th>\n",
              "    </tr>\n",
              "    <tr>\n",
              "      <th>CRS_DEP_TIME</th>\n",
              "      <th></th>\n",
              "      <th></th>\n",
              "      <th></th>\n",
              "      <th></th>\n",
              "      <th></th>\n",
              "      <th></th>\n",
              "      <th></th>\n",
              "      <th></th>\n",
              "      <th></th>\n",
              "      <th></th>\n",
              "      <th></th>\n",
              "      <th></th>\n",
              "      <th></th>\n",
              "    </tr>\n",
              "  </thead>\n",
              "  <tbody>\n",
              "    <tr>\n",
              "      <th>1455</th>\n",
              "      <td>OH</td>\n",
              "      <td>1455</td>\n",
              "      <td>JFK</td>\n",
              "      <td>184</td>\n",
              "      <td>01/01/2004</td>\n",
              "      <td>5935</td>\n",
              "      <td>BWI</td>\n",
              "      <td>0</td>\n",
              "      <td>4</td>\n",
              "      <td>1</td>\n",
              "      <td>N940CA</td>\n",
              "      <td>ontime</td>\n",
              "      <td>0</td>\n",
              "    </tr>\n",
              "    <tr>\n",
              "      <th>1640</th>\n",
              "      <td>DH</td>\n",
              "      <td>1640</td>\n",
              "      <td>JFK</td>\n",
              "      <td>213</td>\n",
              "      <td>01/01/2004</td>\n",
              "      <td>6155</td>\n",
              "      <td>DCA</td>\n",
              "      <td>0</td>\n",
              "      <td>4</td>\n",
              "      <td>1</td>\n",
              "      <td>N405FJ</td>\n",
              "      <td>ontime</td>\n",
              "      <td>0</td>\n",
              "    </tr>\n",
              "    <tr>\n",
              "      <th>1359</th>\n",
              "      <td>RU</td>\n",
              "      <td>1403</td>\n",
              "      <td>EWR</td>\n",
              "      <td>199</td>\n",
              "      <td>1/31/2004</td>\n",
              "      <td>2216</td>\n",
              "      <td>DCA</td>\n",
              "      <td>0</td>\n",
              "      <td>6</td>\n",
              "      <td>31</td>\n",
              "      <td>N16961</td>\n",
              "      <td>ontime</td>\n",
              "      <td>0</td>\n",
              "    </tr>\n",
              "    <tr>\n",
              "      <th>1730</th>\n",
              "      <td>RU</td>\n",
              "      <td>1736</td>\n",
              "      <td>EWR</td>\n",
              "      <td>199</td>\n",
              "      <td>1/31/2004</td>\n",
              "      <td>2097</td>\n",
              "      <td>DCA</td>\n",
              "      <td>0</td>\n",
              "      <td>6</td>\n",
              "      <td>31</td>\n",
              "      <td>N13994</td>\n",
              "      <td>ontime</td>\n",
              "      <td>0</td>\n",
              "    </tr>\n",
              "  </tbody>\n",
              "</table>\n",
              "</div>"
            ],
            "text/plain": [
              "             CARRIER  DEP_TIME DEST  DISTANCE     FL_DATE  FL_NUM ORIGIN  \\\n",
              "CRS_DEP_TIME                                                               \n",
              "1455              OH      1455  JFK       184  01/01/2004    5935    BWI   \n",
              "1640              DH      1640  JFK       213  01/01/2004    6155    DCA   \n",
              "1359              RU      1403  EWR       199   1/31/2004    2216    DCA   \n",
              "1730              RU      1736  EWR       199   1/31/2004    2097    DCA   \n",
              "\n",
              "              Weather  DAY_WEEK  DAY_OF_MONTH TAIL_NUM Flight Status  \\\n",
              "CRS_DEP_TIME                                                           \n",
              "1455                0         4             1   N940CA        ontime   \n",
              "1640                0         4             1   N405FJ        ontime   \n",
              "1359                0         6            31   N16961        ontime   \n",
              "1730                0         6            31   N13994        ontime   \n",
              "\n",
              "              Flight_Status_binary  \n",
              "CRS_DEP_TIME                        \n",
              "1455                             0  \n",
              "1640                             0  \n",
              "1359                             0  \n",
              "1730                             0  "
            ]
          },
          "metadata": {
            "tags": []
          },
          "execution_count": 5
        }
      ]
    },
    {
      "cell_type": "code",
      "metadata": {
        "colab": {
          "base_uri": "https://localhost:8080/"
        },
        "id": "srhtjJoOXZ6T",
        "outputId": "35fb147c-d423-4d42-b9d8-4be581530a6c"
      },
      "source": [
        "df1.shape"
      ],
      "execution_count": null,
      "outputs": [
        {
          "output_type": "execute_result",
          "data": {
            "text/plain": [
              "(2201, 13)"
            ]
          },
          "metadata": {
            "tags": []
          },
          "execution_count": 6
        }
      ]
    },
    {
      "cell_type": "code",
      "metadata": {
        "id": "wFU7Xle-X1x9"
      },
      "source": [
        "df1.info()"
      ],
      "execution_count": null,
      "outputs": []
    },
    {
      "cell_type": "code",
      "metadata": {
        "colab": {
          "base_uri": "https://localhost:8080/"
        },
        "id": "uFrW5IccYFgf",
        "outputId": "176b344d-82a1-40e2-ba72-c5ce9d0b2cf6"
      },
      "source": [
        "df1.CARRIER.unique()"
      ],
      "execution_count": null,
      "outputs": [
        {
          "output_type": "execute_result",
          "data": {
            "text/plain": [
              "array(['OH', 'DH', 'DL', 'MQ', 'UA', 'US', 'RU', 'CO'], dtype=object)"
            ]
          },
          "metadata": {
            "tags": []
          },
          "execution_count": 9
        }
      ]
    },
    {
      "cell_type": "code",
      "metadata": {
        "id": "rvJy0LTpYSQd"
      },
      "source": [
        "df1['CARRIER'].replace({\n",
        "    'UA':'United Airlines',\n",
        "    'DH':'Douniah Airlines',\n",
        "    'US':'United States Airlines',\n",
        "    'RU':'Russian Airlines',\n",
        "    'CO':'Continental Airlines',\n",
        "    'MQ':'Envoy Air',\n",
        "    'OH':'PSA Airlines',\n",
        "    'DL':'Delta Airlines'\n",
        "}, inplace=True)"
      ],
      "execution_count": null,
      "outputs": []
    },
    {
      "cell_type": "code",
      "metadata": {
        "colab": {
          "base_uri": "https://localhost:8080/"
        },
        "id": "wQcRXpWNZ21x",
        "outputId": "b110b44c-8dc3-40fd-dfe9-ba02a285ecd0"
      },
      "source": [
        "df1.CARRIER.nunique()"
      ],
      "execution_count": null,
      "outputs": [
        {
          "output_type": "execute_result",
          "data": {
            "text/plain": [
              "8"
            ]
          },
          "metadata": {
            "tags": []
          },
          "execution_count": 13
        }
      ]
    },
    {
      "cell_type": "code",
      "metadata": {
        "colab": {
          "base_uri": "https://localhost:8080/"
        },
        "id": "GQJGR-TPZ84M",
        "outputId": "1366856f-a2b2-4fe8-f23b-055f3bc9ddb3"
      },
      "source": [
        "df1.CARRIER.value_counts()"
      ],
      "execution_count": null,
      "outputs": [
        {
          "output_type": "execute_result",
          "data": {
            "text/plain": [
              "Douniah Airlines          551\n",
              "Russian Airlines          408\n",
              "United States Airlines    404\n",
              "Delta Airlines            388\n",
              "Envoy Air                 295\n",
              "Continental Airlines       94\n",
              "United Airlines            31\n",
              "PSA Airlines               30\n",
              "Name: CARRIER, dtype: int64"
            ]
          },
          "metadata": {
            "tags": []
          },
          "execution_count": 14
        }
      ]
    },
    {
      "cell_type": "code",
      "metadata": {
        "colab": {
          "base_uri": "https://localhost:8080/",
          "height": 360
        },
        "id": "ShAJomeKaOFX",
        "outputId": "c10158ea-fd53-408d-a883-bfb3523eb7a7"
      },
      "source": [
        "airports = pd.read_csv('/content/drive/MyDrive/FlightDelays.csv')\n",
        "airports.head(10)"
      ],
      "execution_count": null,
      "outputs": [
        {
          "output_type": "execute_result",
          "data": {
            "text/html": [
              "<div>\n",
              "<style scoped>\n",
              "    .dataframe tbody tr th:only-of-type {\n",
              "        vertical-align: middle;\n",
              "    }\n",
              "\n",
              "    .dataframe tbody tr th {\n",
              "        vertical-align: top;\n",
              "    }\n",
              "\n",
              "    .dataframe thead th {\n",
              "        text-align: right;\n",
              "    }\n",
              "</style>\n",
              "<table border=\"1\" class=\"dataframe\">\n",
              "  <thead>\n",
              "    <tr style=\"text-align: right;\">\n",
              "      <th></th>\n",
              "      <th>CRS_DEP_TIME</th>\n",
              "      <th>CARRIER</th>\n",
              "      <th>DEP_TIME</th>\n",
              "      <th>DEST</th>\n",
              "      <th>DISTANCE</th>\n",
              "      <th>FL_DATE</th>\n",
              "      <th>FL_NUM</th>\n",
              "      <th>ORIGIN</th>\n",
              "      <th>Weather</th>\n",
              "      <th>DAY_WEEK</th>\n",
              "      <th>DAY_OF_MONTH</th>\n",
              "      <th>TAIL_NUM</th>\n",
              "      <th>Flight Status</th>\n",
              "      <th>Flight_Status_binary</th>\n",
              "    </tr>\n",
              "  </thead>\n",
              "  <tbody>\n",
              "    <tr>\n",
              "      <th>0</th>\n",
              "      <td>1455</td>\n",
              "      <td>OH</td>\n",
              "      <td>1455</td>\n",
              "      <td>JFK</td>\n",
              "      <td>184</td>\n",
              "      <td>01/01/2004</td>\n",
              "      <td>5935</td>\n",
              "      <td>BWI</td>\n",
              "      <td>0</td>\n",
              "      <td>4</td>\n",
              "      <td>1</td>\n",
              "      <td>N940CA</td>\n",
              "      <td>ontime</td>\n",
              "      <td>0</td>\n",
              "    </tr>\n",
              "    <tr>\n",
              "      <th>1</th>\n",
              "      <td>1640</td>\n",
              "      <td>DH</td>\n",
              "      <td>1640</td>\n",
              "      <td>JFK</td>\n",
              "      <td>213</td>\n",
              "      <td>01/01/2004</td>\n",
              "      <td>6155</td>\n",
              "      <td>DCA</td>\n",
              "      <td>0</td>\n",
              "      <td>4</td>\n",
              "      <td>1</td>\n",
              "      <td>N405FJ</td>\n",
              "      <td>ontime</td>\n",
              "      <td>0</td>\n",
              "    </tr>\n",
              "    <tr>\n",
              "      <th>2</th>\n",
              "      <td>1245</td>\n",
              "      <td>DH</td>\n",
              "      <td>1245</td>\n",
              "      <td>LGA</td>\n",
              "      <td>229</td>\n",
              "      <td>01/01/2004</td>\n",
              "      <td>7208</td>\n",
              "      <td>IAD</td>\n",
              "      <td>0</td>\n",
              "      <td>4</td>\n",
              "      <td>1</td>\n",
              "      <td>N695BR</td>\n",
              "      <td>ontime</td>\n",
              "      <td>0</td>\n",
              "    </tr>\n",
              "    <tr>\n",
              "      <th>3</th>\n",
              "      <td>1715</td>\n",
              "      <td>DH</td>\n",
              "      <td>1709</td>\n",
              "      <td>LGA</td>\n",
              "      <td>229</td>\n",
              "      <td>01/01/2004</td>\n",
              "      <td>7215</td>\n",
              "      <td>IAD</td>\n",
              "      <td>0</td>\n",
              "      <td>4</td>\n",
              "      <td>1</td>\n",
              "      <td>N662BR</td>\n",
              "      <td>ontime</td>\n",
              "      <td>0</td>\n",
              "    </tr>\n",
              "    <tr>\n",
              "      <th>4</th>\n",
              "      <td>1039</td>\n",
              "      <td>DH</td>\n",
              "      <td>1035</td>\n",
              "      <td>LGA</td>\n",
              "      <td>229</td>\n",
              "      <td>01/01/2004</td>\n",
              "      <td>7792</td>\n",
              "      <td>IAD</td>\n",
              "      <td>0</td>\n",
              "      <td>4</td>\n",
              "      <td>1</td>\n",
              "      <td>N698BR</td>\n",
              "      <td>ontime</td>\n",
              "      <td>0</td>\n",
              "    </tr>\n",
              "    <tr>\n",
              "      <th>5</th>\n",
              "      <td>840</td>\n",
              "      <td>DH</td>\n",
              "      <td>839</td>\n",
              "      <td>JFK</td>\n",
              "      <td>228</td>\n",
              "      <td>01/01/2004</td>\n",
              "      <td>7800</td>\n",
              "      <td>IAD</td>\n",
              "      <td>0</td>\n",
              "      <td>4</td>\n",
              "      <td>1</td>\n",
              "      <td>N687BR</td>\n",
              "      <td>ontime</td>\n",
              "      <td>0</td>\n",
              "    </tr>\n",
              "    <tr>\n",
              "      <th>6</th>\n",
              "      <td>1240</td>\n",
              "      <td>DH</td>\n",
              "      <td>1243</td>\n",
              "      <td>JFK</td>\n",
              "      <td>228</td>\n",
              "      <td>01/01/2004</td>\n",
              "      <td>7806</td>\n",
              "      <td>IAD</td>\n",
              "      <td>0</td>\n",
              "      <td>4</td>\n",
              "      <td>1</td>\n",
              "      <td>N321UE</td>\n",
              "      <td>ontime</td>\n",
              "      <td>0</td>\n",
              "    </tr>\n",
              "    <tr>\n",
              "      <th>7</th>\n",
              "      <td>1645</td>\n",
              "      <td>DH</td>\n",
              "      <td>1644</td>\n",
              "      <td>JFK</td>\n",
              "      <td>228</td>\n",
              "      <td>01/01/2004</td>\n",
              "      <td>7810</td>\n",
              "      <td>IAD</td>\n",
              "      <td>0</td>\n",
              "      <td>4</td>\n",
              "      <td>1</td>\n",
              "      <td>N301UE</td>\n",
              "      <td>ontime</td>\n",
              "      <td>0</td>\n",
              "    </tr>\n",
              "    <tr>\n",
              "      <th>8</th>\n",
              "      <td>1715</td>\n",
              "      <td>DH</td>\n",
              "      <td>1710</td>\n",
              "      <td>JFK</td>\n",
              "      <td>228</td>\n",
              "      <td>01/01/2004</td>\n",
              "      <td>7812</td>\n",
              "      <td>IAD</td>\n",
              "      <td>0</td>\n",
              "      <td>4</td>\n",
              "      <td>1</td>\n",
              "      <td>N328UE</td>\n",
              "      <td>ontime</td>\n",
              "      <td>0</td>\n",
              "    </tr>\n",
              "    <tr>\n",
              "      <th>9</th>\n",
              "      <td>2120</td>\n",
              "      <td>DH</td>\n",
              "      <td>2129</td>\n",
              "      <td>JFK</td>\n",
              "      <td>228</td>\n",
              "      <td>01/01/2004</td>\n",
              "      <td>7814</td>\n",
              "      <td>IAD</td>\n",
              "      <td>0</td>\n",
              "      <td>4</td>\n",
              "      <td>1</td>\n",
              "      <td>N685BR</td>\n",
              "      <td>ontime</td>\n",
              "      <td>0</td>\n",
              "    </tr>\n",
              "  </tbody>\n",
              "</table>\n",
              "</div>"
            ],
            "text/plain": [
              "   CRS_DEP_TIME CARRIER  DEP_TIME DEST  DISTANCE     FL_DATE  FL_NUM ORIGIN  \\\n",
              "0          1455      OH      1455  JFK       184  01/01/2004    5935    BWI   \n",
              "1          1640      DH      1640  JFK       213  01/01/2004    6155    DCA   \n",
              "2          1245      DH      1245  LGA       229  01/01/2004    7208    IAD   \n",
              "3          1715      DH      1709  LGA       229  01/01/2004    7215    IAD   \n",
              "4          1039      DH      1035  LGA       229  01/01/2004    7792    IAD   \n",
              "5           840      DH       839  JFK       228  01/01/2004    7800    IAD   \n",
              "6          1240      DH      1243  JFK       228  01/01/2004    7806    IAD   \n",
              "7          1645      DH      1644  JFK       228  01/01/2004    7810    IAD   \n",
              "8          1715      DH      1710  JFK       228  01/01/2004    7812    IAD   \n",
              "9          2120      DH      2129  JFK       228  01/01/2004    7814    IAD   \n",
              "\n",
              "   Weather  DAY_WEEK  DAY_OF_MONTH TAIL_NUM Flight Status  \\\n",
              "0        0         4             1   N940CA        ontime   \n",
              "1        0         4             1   N405FJ        ontime   \n",
              "2        0         4             1   N695BR        ontime   \n",
              "3        0         4             1   N662BR        ontime   \n",
              "4        0         4             1   N698BR        ontime   \n",
              "5        0         4             1   N687BR        ontime   \n",
              "6        0         4             1   N321UE        ontime   \n",
              "7        0         4             1   N301UE        ontime   \n",
              "8        0         4             1   N328UE        ontime   \n",
              "9        0         4             1   N685BR        ontime   \n",
              "\n",
              "   Flight_Status_binary  \n",
              "0                     0  \n",
              "1                     0  \n",
              "2                     0  \n",
              "3                     0  \n",
              "4                     0  \n",
              "5                     0  \n",
              "6                     0  \n",
              "7                     0  \n",
              "8                     0  \n",
              "9                     0  "
            ]
          },
          "metadata": {
            "tags": []
          },
          "execution_count": 17
        }
      ]
    },
    {
      "cell_type": "code",
      "metadata": {
        "colab": {
          "base_uri": "https://localhost:8080/"
        },
        "id": "psWUvKH8bhMQ",
        "outputId": "75a3468a-6fdb-478a-bbdd-090a3436f7c5"
      },
      "source": [
        "df1.isna().sum()"
      ],
      "execution_count": null,
      "outputs": [
        {
          "output_type": "execute_result",
          "data": {
            "text/plain": [
              "CARRIER                 0\n",
              "DEP_TIME                0\n",
              "DEST                    0\n",
              "DISTANCE                0\n",
              "FL_DATE                 0\n",
              "FL_NUM                  0\n",
              "ORIGIN                  0\n",
              "Weather                 0\n",
              "DAY_WEEK                0\n",
              "DAY_OF_MONTH            0\n",
              "TAIL_NUM                0\n",
              "Flight Status           0\n",
              "Flight_Status_binary    0\n",
              "dtype: int64"
            ]
          },
          "metadata": {
            "tags": []
          },
          "execution_count": 18
        }
      ]
    },
    {
      "cell_type": "code",
      "metadata": {
        "colab": {
          "base_uri": "https://localhost:8080/"
        },
        "id": "SNb7TXaybpaw",
        "outputId": "43fcd304-e8dd-4ab6-b945-56d5964031e6"
      },
      "source": [
        "print('Number of total missing values:', df1.isna().sum().sum())\n",
        "print('df1 shape:', df1.shape)"
      ],
      "execution_count": null,
      "outputs": [
        {
          "output_type": "stream",
          "text": [
            "Number of total missing values: 0\n",
            "df1 shape: (2201, 13)\n"
          ],
          "name": "stdout"
        }
      ]
    },
    {
      "cell_type": "code",
      "metadata": {
        "colab": {
          "base_uri": "https://localhost:8080/",
          "height": 94
        },
        "id": "Cn4nRkY2bwKd",
        "outputId": "19b814db-28b7-4c43-e4f2-c314e52176ea"
      },
      "source": [
        "df_NaN = df1.loc[df1.isnull().any(axis=1)]\n",
        "df_NaN.head(20)"
      ],
      "execution_count": null,
      "outputs": [
        {
          "output_type": "execute_result",
          "data": {
            "text/html": [
              "<div>\n",
              "<style scoped>\n",
              "    .dataframe tbody tr th:only-of-type {\n",
              "        vertical-align: middle;\n",
              "    }\n",
              "\n",
              "    .dataframe tbody tr th {\n",
              "        vertical-align: top;\n",
              "    }\n",
              "\n",
              "    .dataframe thead th {\n",
              "        text-align: right;\n",
              "    }\n",
              "</style>\n",
              "<table border=\"1\" class=\"dataframe\">\n",
              "  <thead>\n",
              "    <tr style=\"text-align: right;\">\n",
              "      <th></th>\n",
              "      <th>CARRIER</th>\n",
              "      <th>DEP_TIME</th>\n",
              "      <th>DEST</th>\n",
              "      <th>DISTANCE</th>\n",
              "      <th>FL_DATE</th>\n",
              "      <th>FL_NUM</th>\n",
              "      <th>ORIGIN</th>\n",
              "      <th>Weather</th>\n",
              "      <th>DAY_WEEK</th>\n",
              "      <th>DAY_OF_MONTH</th>\n",
              "      <th>TAIL_NUM</th>\n",
              "      <th>Flight Status</th>\n",
              "      <th>Flight_Status_binary</th>\n",
              "    </tr>\n",
              "    <tr>\n",
              "      <th>CRS_DEP_TIME</th>\n",
              "      <th></th>\n",
              "      <th></th>\n",
              "      <th></th>\n",
              "      <th></th>\n",
              "      <th></th>\n",
              "      <th></th>\n",
              "      <th></th>\n",
              "      <th></th>\n",
              "      <th></th>\n",
              "      <th></th>\n",
              "      <th></th>\n",
              "      <th></th>\n",
              "      <th></th>\n",
              "    </tr>\n",
              "  </thead>\n",
              "  <tbody>\n",
              "  </tbody>\n",
              "</table>\n",
              "</div>"
            ],
            "text/plain": [
              "Empty DataFrame\n",
              "Columns: [CARRIER, DEP_TIME, DEST, DISTANCE, FL_DATE, FL_NUM, ORIGIN, Weather, DAY_WEEK, DAY_OF_MONTH, TAIL_NUM, Flight Status, Flight_Status_binary]\n",
              "Index: []"
            ]
          },
          "metadata": {
            "tags": []
          },
          "execution_count": 20
        }
      ]
    },
    {
      "cell_type": "code",
      "metadata": {
        "colab": {
          "base_uri": "https://localhost:8080/",
          "height": 206
        },
        "id": "iROqRhRHgbhN",
        "outputId": "d706fffa-b9d3-4fce-807c-cc17a6ec325c"
      },
      "source": [
        "df1['DAY'] = pd.DatetimeIndex(df1['FL_DATE']).day\n",
        "df1['MONTH'] = pd.DatetimeIndex(df1['FL_DATE']).month\n",
        "df1.head(2)"
      ],
      "execution_count": null,
      "outputs": [
        {
          "output_type": "execute_result",
          "data": {
            "text/html": [
              "<div>\n",
              "<style scoped>\n",
              "    .dataframe tbody tr th:only-of-type {\n",
              "        vertical-align: middle;\n",
              "    }\n",
              "\n",
              "    .dataframe tbody tr th {\n",
              "        vertical-align: top;\n",
              "    }\n",
              "\n",
              "    .dataframe thead th {\n",
              "        text-align: right;\n",
              "    }\n",
              "</style>\n",
              "<table border=\"1\" class=\"dataframe\">\n",
              "  <thead>\n",
              "    <tr style=\"text-align: right;\">\n",
              "      <th></th>\n",
              "      <th>CARRIER</th>\n",
              "      <th>DEP_TIME</th>\n",
              "      <th>DEST</th>\n",
              "      <th>DISTANCE</th>\n",
              "      <th>FL_DATE</th>\n",
              "      <th>FL_NUM</th>\n",
              "      <th>ORIGIN</th>\n",
              "      <th>Weather</th>\n",
              "      <th>DAY_WEEK</th>\n",
              "      <th>DAY_OF_MONTH</th>\n",
              "      <th>TAIL_NUM</th>\n",
              "      <th>Flight Status</th>\n",
              "      <th>Flight_Status_binary</th>\n",
              "      <th>DAY</th>\n",
              "      <th>MONTH</th>\n",
              "      <th>MONTH_AB</th>\n",
              "      <th>WEEKDAY</th>\n",
              "    </tr>\n",
              "    <tr>\n",
              "      <th>CRS_DEP_TIME</th>\n",
              "      <th></th>\n",
              "      <th></th>\n",
              "      <th></th>\n",
              "      <th></th>\n",
              "      <th></th>\n",
              "      <th></th>\n",
              "      <th></th>\n",
              "      <th></th>\n",
              "      <th></th>\n",
              "      <th></th>\n",
              "      <th></th>\n",
              "      <th></th>\n",
              "      <th></th>\n",
              "      <th></th>\n",
              "      <th></th>\n",
              "      <th></th>\n",
              "      <th></th>\n",
              "    </tr>\n",
              "  </thead>\n",
              "  <tbody>\n",
              "    <tr>\n",
              "      <th>1455</th>\n",
              "      <td>PSA Airlines</td>\n",
              "      <td>1455</td>\n",
              "      <td>JFK</td>\n",
              "      <td>184</td>\n",
              "      <td>2004-01-01</td>\n",
              "      <td>5935</td>\n",
              "      <td>BWI</td>\n",
              "      <td>0</td>\n",
              "      <td>4</td>\n",
              "      <td>1</td>\n",
              "      <td>N940CA</td>\n",
              "      <td>ontime</td>\n",
              "      <td>0</td>\n",
              "      <td>1</td>\n",
              "      <td>1</td>\n",
              "      <td>Jan</td>\n",
              "      <td>3</td>\n",
              "    </tr>\n",
              "    <tr>\n",
              "      <th>1640</th>\n",
              "      <td>Douniah Airlines</td>\n",
              "      <td>1640</td>\n",
              "      <td>JFK</td>\n",
              "      <td>213</td>\n",
              "      <td>2004-01-01</td>\n",
              "      <td>6155</td>\n",
              "      <td>DCA</td>\n",
              "      <td>0</td>\n",
              "      <td>4</td>\n",
              "      <td>1</td>\n",
              "      <td>N405FJ</td>\n",
              "      <td>ontime</td>\n",
              "      <td>0</td>\n",
              "      <td>1</td>\n",
              "      <td>1</td>\n",
              "      <td>Jan</td>\n",
              "      <td>3</td>\n",
              "    </tr>\n",
              "  </tbody>\n",
              "</table>\n",
              "</div>"
            ],
            "text/plain": [
              "                       CARRIER  DEP_TIME DEST  DISTANCE    FL_DATE  FL_NUM  \\\n",
              "CRS_DEP_TIME                                                                 \n",
              "1455              PSA Airlines      1455  JFK       184 2004-01-01    5935   \n",
              "1640          Douniah Airlines      1640  JFK       213 2004-01-01    6155   \n",
              "\n",
              "             ORIGIN  Weather  DAY_WEEK  DAY_OF_MONTH TAIL_NUM Flight Status  \\\n",
              "CRS_DEP_TIME                                                                  \n",
              "1455            BWI        0         4             1   N940CA        ontime   \n",
              "1640            DCA        0         4             1   N405FJ        ontime   \n",
              "\n",
              "              Flight_Status_binary  DAY  MONTH MONTH_AB  WEEKDAY  \n",
              "CRS_DEP_TIME                                                      \n",
              "1455                             0    1      1      Jan        3  \n",
              "1640                             0    1      1      Jan        3  "
            ]
          },
          "metadata": {
            "tags": []
          },
          "execution_count": 33
        }
      ]
    },
    {
      "cell_type": "code",
      "metadata": {
        "colab": {
          "base_uri": "https://localhost:8080/"
        },
        "id": "7Sbhvae8gfCE",
        "outputId": "2453b4c3-aeb9-457c-9e98-d0bb5fac1b73"
      },
      "source": [
        "\n",
        "print('Maximum number of days in a month:', df1.DAY.nunique())\n",
        "print('Total number of months:', df1.MONTH.nunique())"
      ],
      "execution_count": null,
      "outputs": [
        {
          "output_type": "stream",
          "text": [
            "Maximum number of days in a month: 31\n",
            "Total number of months: 1\n"
          ],
          "name": "stdout"
        }
      ]
    },
    {
      "cell_type": "code",
      "metadata": {
        "id": "W9aBQHoZgn_j"
      },
      "source": [
        "import calendar\n",
        "df1['MONTH_AB'] = df1['MONTH'].apply(lambda x: calendar.month_abbr[x])"
      ],
      "execution_count": null,
      "outputs": []
    },
    {
      "cell_type": "code",
      "metadata": {
        "id": "VBQRuPYyfQQg"
      },
      "source": [
        "df1['FL_DATE'] = pd.to_datetime(df1['FL_DATE'])\n",
        "df1['WEEKDAY'] = df1['FL_DATE'].dt.dayofweek"
      ],
      "execution_count": null,
      "outputs": []
    },
    {
      "cell_type": "code",
      "metadata": {
        "colab": {
          "base_uri": "https://localhost:8080/"
        },
        "id": "BjVbh3H5f-hL",
        "outputId": "e745c729-121a-4a97-dae5-ee8e9ed584af"
      },
      "source": [
        "df1.WEEKDAY.value_counts()\n"
      ],
      "execution_count": null,
      "outputs": [
        {
          "output_type": "execute_result",
          "data": {
            "text/plain": [
              "4    391\n",
              "3    372\n",
              "2    320\n",
              "0    308\n",
              "1    307\n",
              "6    253\n",
              "5    250\n",
              "Name: WEEKDAY, dtype: int64"
            ]
          },
          "metadata": {
            "tags": []
          },
          "execution_count": 32
        }
      ]
    },
    {
      "cell_type": "code",
      "metadata": {
        "colab": {
          "base_uri": "https://localhost:8080/"
        },
        "id": "vqIYuWZShEI6",
        "outputId": "2f354e80-6bb9-4a9f-f3cd-d95017557f63"
      },
      "source": [
        "df1.DEST.value_counts().iloc[:20]"
      ],
      "execution_count": null,
      "outputs": [
        {
          "output_type": "execute_result",
          "data": {
            "text/plain": [
              "LGA    1150\n",
              "EWR     665\n",
              "JFK     386\n",
              "Name: DEST, dtype: int64"
            ]
          },
          "metadata": {
            "tags": []
          },
          "execution_count": 38
        }
      ]
    },
    {
      "cell_type": "code",
      "metadata": {
        "colab": {
          "base_uri": "https://localhost:8080/",
          "height": 136
        },
        "id": "WRwLfQWRhLX8",
        "outputId": "5f9e0962-7d3f-4a16-8c48-bfa406bad4d8"
      },
      "source": [
        "top_cities = df1.DEST.value_counts().iloc[0:20].rename_axis('DEST').reset_index(name='TOTAL_FLIGHTS')\n",
        "top_cities.head()"
      ],
      "execution_count": null,
      "outputs": [
        {
          "output_type": "execute_result",
          "data": {
            "text/html": [
              "<div>\n",
              "<style scoped>\n",
              "    .dataframe tbody tr th:only-of-type {\n",
              "        vertical-align: middle;\n",
              "    }\n",
              "\n",
              "    .dataframe tbody tr th {\n",
              "        vertical-align: top;\n",
              "    }\n",
              "\n",
              "    .dataframe thead th {\n",
              "        text-align: right;\n",
              "    }\n",
              "</style>\n",
              "<table border=\"1\" class=\"dataframe\">\n",
              "  <thead>\n",
              "    <tr style=\"text-align: right;\">\n",
              "      <th></th>\n",
              "      <th>DEST</th>\n",
              "      <th>TOTAL_FLIGHTS</th>\n",
              "    </tr>\n",
              "  </thead>\n",
              "  <tbody>\n",
              "    <tr>\n",
              "      <th>0</th>\n",
              "      <td>LGA</td>\n",
              "      <td>1150</td>\n",
              "    </tr>\n",
              "    <tr>\n",
              "      <th>1</th>\n",
              "      <td>EWR</td>\n",
              "      <td>665</td>\n",
              "    </tr>\n",
              "    <tr>\n",
              "      <th>2</th>\n",
              "      <td>JFK</td>\n",
              "      <td>386</td>\n",
              "    </tr>\n",
              "  </tbody>\n",
              "</table>\n",
              "</div>"
            ],
            "text/plain": [
              "  DEST  TOTAL_FLIGHTS\n",
              "0  LGA           1150\n",
              "1  EWR            665\n",
              "2  JFK            386"
            ]
          },
          "metadata": {
            "tags": []
          },
          "execution_count": 39
        }
      ]
    },
    {
      "cell_type": "code",
      "metadata": {
        "colab": {
          "base_uri": "https://localhost:8080/"
        },
        "id": "kKFCR7KhhSS_",
        "outputId": "ab6e4eb5-ddd1-4d62-b00f-f048cc162c7c"
      },
      "source": [
        "top_cities.DEST.unique()"
      ],
      "execution_count": null,
      "outputs": [
        {
          "output_type": "execute_result",
          "data": {
            "text/plain": [
              "array(['LGA', 'EWR', 'JFK'], dtype=object)"
            ]
          },
          "metadata": {
            "tags": []
          },
          "execution_count": 40
        }
      ]
    },
    {
      "cell_type": "code",
      "metadata": {
        "id": "Xs8Esx2Zhcqt"
      },
      "source": [
        "city_list = top_cities['DEST'].tolist()"
      ],
      "execution_count": null,
      "outputs": []
    },
    {
      "cell_type": "code",
      "metadata": {
        "colab": {
          "base_uri": "https://localhost:8080/"
        },
        "id": "nsIdoVijhgth",
        "outputId": "77ac107c-8ab3-4b73-963c-d3961fc420bf"
      },
      "source": [
        "city_list"
      ],
      "execution_count": null,
      "outputs": [
        {
          "output_type": "execute_result",
          "data": {
            "text/plain": [
              "['LGA', 'EWR', 'JFK']"
            ]
          },
          "metadata": {
            "tags": []
          },
          "execution_count": 42
        }
      ]
    },
    {
      "cell_type": "code",
      "metadata": {
        "colab": {
          "base_uri": "https://localhost:8080/",
          "height": 346
        },
        "id": "IND6IlophlcY",
        "outputId": "e36a19ff-315a-4d4f-c608-35f599d071ba"
      },
      "source": [
        "boolean_series = df1.DEST.isin(city_list)\n",
        "dfm = df1[boolean_series]\n",
        "dfm.head()"
      ],
      "execution_count": null,
      "outputs": [
        {
          "output_type": "execute_result",
          "data": {
            "text/html": [
              "<div>\n",
              "<style scoped>\n",
              "    .dataframe tbody tr th:only-of-type {\n",
              "        vertical-align: middle;\n",
              "    }\n",
              "\n",
              "    .dataframe tbody tr th {\n",
              "        vertical-align: top;\n",
              "    }\n",
              "\n",
              "    .dataframe thead th {\n",
              "        text-align: right;\n",
              "    }\n",
              "</style>\n",
              "<table border=\"1\" class=\"dataframe\">\n",
              "  <thead>\n",
              "    <tr style=\"text-align: right;\">\n",
              "      <th></th>\n",
              "      <th>CARRIER</th>\n",
              "      <th>DEP_TIME</th>\n",
              "      <th>DEST</th>\n",
              "      <th>DISTANCE</th>\n",
              "      <th>FL_DATE</th>\n",
              "      <th>FL_NUM</th>\n",
              "      <th>ORIGIN</th>\n",
              "      <th>Weather</th>\n",
              "      <th>DAY_WEEK</th>\n",
              "      <th>DAY_OF_MONTH</th>\n",
              "      <th>TAIL_NUM</th>\n",
              "      <th>Flight Status</th>\n",
              "      <th>Flight_Status_binary</th>\n",
              "      <th>DAY</th>\n",
              "      <th>MONTH</th>\n",
              "      <th>MONTH_AB</th>\n",
              "      <th>WEEKDAY</th>\n",
              "    </tr>\n",
              "    <tr>\n",
              "      <th>CRS_DEP_TIME</th>\n",
              "      <th></th>\n",
              "      <th></th>\n",
              "      <th></th>\n",
              "      <th></th>\n",
              "      <th></th>\n",
              "      <th></th>\n",
              "      <th></th>\n",
              "      <th></th>\n",
              "      <th></th>\n",
              "      <th></th>\n",
              "      <th></th>\n",
              "      <th></th>\n",
              "      <th></th>\n",
              "      <th></th>\n",
              "      <th></th>\n",
              "      <th></th>\n",
              "      <th></th>\n",
              "    </tr>\n",
              "  </thead>\n",
              "  <tbody>\n",
              "    <tr>\n",
              "      <th>1455</th>\n",
              "      <td>PSA Airlines</td>\n",
              "      <td>1455</td>\n",
              "      <td>JFK</td>\n",
              "      <td>184</td>\n",
              "      <td>2004-01-01</td>\n",
              "      <td>5935</td>\n",
              "      <td>BWI</td>\n",
              "      <td>0</td>\n",
              "      <td>4</td>\n",
              "      <td>1</td>\n",
              "      <td>N940CA</td>\n",
              "      <td>ontime</td>\n",
              "      <td>0</td>\n",
              "      <td>1</td>\n",
              "      <td>1</td>\n",
              "      <td>Jan</td>\n",
              "      <td>3</td>\n",
              "    </tr>\n",
              "    <tr>\n",
              "      <th>1640</th>\n",
              "      <td>Douniah Airlines</td>\n",
              "      <td>1640</td>\n",
              "      <td>JFK</td>\n",
              "      <td>213</td>\n",
              "      <td>2004-01-01</td>\n",
              "      <td>6155</td>\n",
              "      <td>DCA</td>\n",
              "      <td>0</td>\n",
              "      <td>4</td>\n",
              "      <td>1</td>\n",
              "      <td>N405FJ</td>\n",
              "      <td>ontime</td>\n",
              "      <td>0</td>\n",
              "      <td>1</td>\n",
              "      <td>1</td>\n",
              "      <td>Jan</td>\n",
              "      <td>3</td>\n",
              "    </tr>\n",
              "    <tr>\n",
              "      <th>1245</th>\n",
              "      <td>Douniah Airlines</td>\n",
              "      <td>1245</td>\n",
              "      <td>LGA</td>\n",
              "      <td>229</td>\n",
              "      <td>2004-01-01</td>\n",
              "      <td>7208</td>\n",
              "      <td>IAD</td>\n",
              "      <td>0</td>\n",
              "      <td>4</td>\n",
              "      <td>1</td>\n",
              "      <td>N695BR</td>\n",
              "      <td>ontime</td>\n",
              "      <td>0</td>\n",
              "      <td>1</td>\n",
              "      <td>1</td>\n",
              "      <td>Jan</td>\n",
              "      <td>3</td>\n",
              "    </tr>\n",
              "    <tr>\n",
              "      <th>1715</th>\n",
              "      <td>Douniah Airlines</td>\n",
              "      <td>1709</td>\n",
              "      <td>LGA</td>\n",
              "      <td>229</td>\n",
              "      <td>2004-01-01</td>\n",
              "      <td>7215</td>\n",
              "      <td>IAD</td>\n",
              "      <td>0</td>\n",
              "      <td>4</td>\n",
              "      <td>1</td>\n",
              "      <td>N662BR</td>\n",
              "      <td>ontime</td>\n",
              "      <td>0</td>\n",
              "      <td>1</td>\n",
              "      <td>1</td>\n",
              "      <td>Jan</td>\n",
              "      <td>3</td>\n",
              "    </tr>\n",
              "    <tr>\n",
              "      <th>1039</th>\n",
              "      <td>Douniah Airlines</td>\n",
              "      <td>1035</td>\n",
              "      <td>LGA</td>\n",
              "      <td>229</td>\n",
              "      <td>2004-01-01</td>\n",
              "      <td>7792</td>\n",
              "      <td>IAD</td>\n",
              "      <td>0</td>\n",
              "      <td>4</td>\n",
              "      <td>1</td>\n",
              "      <td>N698BR</td>\n",
              "      <td>ontime</td>\n",
              "      <td>0</td>\n",
              "      <td>1</td>\n",
              "      <td>1</td>\n",
              "      <td>Jan</td>\n",
              "      <td>3</td>\n",
              "    </tr>\n",
              "  </tbody>\n",
              "</table>\n",
              "</div>"
            ],
            "text/plain": [
              "                       CARRIER  DEP_TIME DEST  DISTANCE    FL_DATE  FL_NUM  \\\n",
              "CRS_DEP_TIME                                                                 \n",
              "1455              PSA Airlines      1455  JFK       184 2004-01-01    5935   \n",
              "1640          Douniah Airlines      1640  JFK       213 2004-01-01    6155   \n",
              "1245          Douniah Airlines      1245  LGA       229 2004-01-01    7208   \n",
              "1715          Douniah Airlines      1709  LGA       229 2004-01-01    7215   \n",
              "1039          Douniah Airlines      1035  LGA       229 2004-01-01    7792   \n",
              "\n",
              "             ORIGIN  Weather  DAY_WEEK  DAY_OF_MONTH TAIL_NUM Flight Status  \\\n",
              "CRS_DEP_TIME                                                                  \n",
              "1455            BWI        0         4             1   N940CA        ontime   \n",
              "1640            DCA        0         4             1   N405FJ        ontime   \n",
              "1245            IAD        0         4             1   N695BR        ontime   \n",
              "1715            IAD        0         4             1   N662BR        ontime   \n",
              "1039            IAD        0         4             1   N698BR        ontime   \n",
              "\n",
              "              Flight_Status_binary  DAY  MONTH MONTH_AB  WEEKDAY  \n",
              "CRS_DEP_TIME                                                      \n",
              "1455                             0    1      1      Jan        3  \n",
              "1640                             0    1      1      Jan        3  \n",
              "1245                             0    1      1      Jan        3  \n",
              "1715                             0    1      1      Jan        3  \n",
              "1039                             0    1      1      Jan        3  "
            ]
          },
          "metadata": {
            "tags": []
          },
          "execution_count": 45
        }
      ]
    },
    {
      "cell_type": "code",
      "metadata": {
        "id": "MKP5wzHIpaUB"
      },
      "source": [
        "dfm = dfm.drop(columns=['FL_DATE', 'MONTH_AB'])"
      ],
      "execution_count": null,
      "outputs": []
    },
    {
      "cell_type": "code",
      "metadata": {
        "colab": {
          "base_uri": "https://localhost:8080/"
        },
        "id": "ARjcOTczht6F",
        "outputId": "2002ba64-4dcc-4410-ecd4-98c4cda67736"
      },
      "source": [
        "dfm.DEST.unique()"
      ],
      "execution_count": null,
      "outputs": [
        {
          "output_type": "execute_result",
          "data": {
            "text/plain": [
              "array(['JFK', 'LGA', 'EWR'], dtype=object)"
            ]
          },
          "metadata": {
            "tags": []
          },
          "execution_count": 56
        }
      ]
    },
    {
      "cell_type": "code",
      "metadata": {
        "colab": {
          "base_uri": "https://localhost:8080/"
        },
        "id": "uOjmP4qrh1JI",
        "outputId": "8abc5439-faba-4ac9-e7b3-d74532e08926"
      },
      "source": [
        "dfm.DEST.value_counts()"
      ],
      "execution_count": null,
      "outputs": [
        {
          "output_type": "execute_result",
          "data": {
            "text/plain": [
              "LGA    1150\n",
              "EWR     665\n",
              "JFK     386\n",
              "Name: DEST, dtype: int64"
            ]
          },
          "metadata": {
            "tags": []
          },
          "execution_count": 57
        }
      ]
    },
    {
      "cell_type": "code",
      "metadata": {
        "colab": {
          "base_uri": "https://localhost:8080/"
        },
        "id": "WeVfWKG_h-DU",
        "outputId": "03f2d154-cb20-40d4-9e6b-40ae3cd56ca5"
      },
      "source": [
        "dfm.shape\n"
      ],
      "execution_count": null,
      "outputs": [
        {
          "output_type": "execute_result",
          "data": {
            "text/plain": [
              "(2201, 15)"
            ]
          },
          "metadata": {
            "tags": []
          },
          "execution_count": 58
        }
      ]
    },
    {
      "cell_type": "code",
      "metadata": {
        "colab": {
          "base_uri": "https://localhost:8080/"
        },
        "id": "I0J6GYzzpZol",
        "outputId": "53044fbb-087d-462a-e5bf-69b190583789"
      },
      "source": [
        "df1.shape"
      ],
      "execution_count": null,
      "outputs": [
        {
          "output_type": "execute_result",
          "data": {
            "text/plain": [
              "(2201, 17)"
            ]
          },
          "metadata": {
            "tags": []
          },
          "execution_count": 59
        }
      ]
    },
    {
      "cell_type": "code",
      "metadata": {
        "id": "1iSHzGoepmyw"
      },
      "source": [
        "dfm.to_csv('dfm.csv')\n"
      ],
      "execution_count": null,
      "outputs": []
    },
    {
      "cell_type": "code",
      "metadata": {
        "colab": {
          "base_uri": "https://localhost:8080/",
          "height": 343
        },
        "id": "-FZvHkjkpwCu",
        "outputId": "6ce2b30e-0c71-4162-c39a-bd3db9c5cd29"
      },
      "source": [
        "dfm.corr()\n"
      ],
      "execution_count": null,
      "outputs": [
        {
          "output_type": "execute_result",
          "data": {
            "text/html": [
              "<div>\n",
              "<style scoped>\n",
              "    .dataframe tbody tr th:only-of-type {\n",
              "        vertical-align: middle;\n",
              "    }\n",
              "\n",
              "    .dataframe tbody tr th {\n",
              "        vertical-align: top;\n",
              "    }\n",
              "\n",
              "    .dataframe thead th {\n",
              "        text-align: right;\n",
              "    }\n",
              "</style>\n",
              "<table border=\"1\" class=\"dataframe\">\n",
              "  <thead>\n",
              "    <tr style=\"text-align: right;\">\n",
              "      <th></th>\n",
              "      <th>DEP_TIME</th>\n",
              "      <th>DISTANCE</th>\n",
              "      <th>FL_NUM</th>\n",
              "      <th>Weather</th>\n",
              "      <th>DAY_WEEK</th>\n",
              "      <th>DAY_OF_MONTH</th>\n",
              "      <th>Flight_Status_binary</th>\n",
              "      <th>DAY</th>\n",
              "      <th>MONTH</th>\n",
              "      <th>WEEKDAY</th>\n",
              "    </tr>\n",
              "  </thead>\n",
              "  <tbody>\n",
              "    <tr>\n",
              "      <th>DEP_TIME</th>\n",
              "      <td>1.000000</td>\n",
              "      <td>0.057680</td>\n",
              "      <td>0.105660</td>\n",
              "      <td>0.019001</td>\n",
              "      <td>0.051868</td>\n",
              "      <td>0.000132</td>\n",
              "      <td>0.170116</td>\n",
              "      <td>0.000132</td>\n",
              "      <td>NaN</td>\n",
              "      <td>0.051868</td>\n",
              "    </tr>\n",
              "    <tr>\n",
              "      <th>DISTANCE</th>\n",
              "      <td>0.057680</td>\n",
              "      <td>1.000000</td>\n",
              "      <td>0.421937</td>\n",
              "      <td>0.033104</td>\n",
              "      <td>-0.020926</td>\n",
              "      <td>0.010121</td>\n",
              "      <td>-0.018794</td>\n",
              "      <td>0.010121</td>\n",
              "      <td>NaN</td>\n",
              "      <td>-0.020926</td>\n",
              "    </tr>\n",
              "    <tr>\n",
              "      <th>FL_NUM</th>\n",
              "      <td>0.105660</td>\n",
              "      <td>0.421937</td>\n",
              "      <td>1.000000</td>\n",
              "      <td>0.042076</td>\n",
              "      <td>0.018604</td>\n",
              "      <td>-0.009268</td>\n",
              "      <td>0.100394</td>\n",
              "      <td>-0.009268</td>\n",
              "      <td>NaN</td>\n",
              "      <td>0.018604</td>\n",
              "    </tr>\n",
              "    <tr>\n",
              "      <th>Weather</th>\n",
              "      <td>0.019001</td>\n",
              "      <td>0.033104</td>\n",
              "      <td>0.042076</td>\n",
              "      <td>1.000000</td>\n",
              "      <td>-0.123636</td>\n",
              "      <td>0.144034</td>\n",
              "      <td>0.247217</td>\n",
              "      <td>0.144034</td>\n",
              "      <td>NaN</td>\n",
              "      <td>-0.123636</td>\n",
              "    </tr>\n",
              "    <tr>\n",
              "      <th>DAY_WEEK</th>\n",
              "      <td>0.051868</td>\n",
              "      <td>-0.020926</td>\n",
              "      <td>0.018604</td>\n",
              "      <td>-0.123636</td>\n",
              "      <td>1.000000</td>\n",
              "      <td>0.015914</td>\n",
              "      <td>-0.040756</td>\n",
              "      <td>0.015914</td>\n",
              "      <td>NaN</td>\n",
              "      <td>1.000000</td>\n",
              "    </tr>\n",
              "    <tr>\n",
              "      <th>DAY_OF_MONTH</th>\n",
              "      <td>0.000132</td>\n",
              "      <td>0.010121</td>\n",
              "      <td>-0.009268</td>\n",
              "      <td>0.144034</td>\n",
              "      <td>0.015914</td>\n",
              "      <td>1.000000</td>\n",
              "      <td>0.066598</td>\n",
              "      <td>1.000000</td>\n",
              "      <td>NaN</td>\n",
              "      <td>0.015914</td>\n",
              "    </tr>\n",
              "    <tr>\n",
              "      <th>Flight_Status_binary</th>\n",
              "      <td>0.170116</td>\n",
              "      <td>-0.018794</td>\n",
              "      <td>0.100394</td>\n",
              "      <td>0.247217</td>\n",
              "      <td>-0.040756</td>\n",
              "      <td>0.066598</td>\n",
              "      <td>1.000000</td>\n",
              "      <td>0.066598</td>\n",
              "      <td>NaN</td>\n",
              "      <td>-0.040756</td>\n",
              "    </tr>\n",
              "    <tr>\n",
              "      <th>DAY</th>\n",
              "      <td>0.000132</td>\n",
              "      <td>0.010121</td>\n",
              "      <td>-0.009268</td>\n",
              "      <td>0.144034</td>\n",
              "      <td>0.015914</td>\n",
              "      <td>1.000000</td>\n",
              "      <td>0.066598</td>\n",
              "      <td>1.000000</td>\n",
              "      <td>NaN</td>\n",
              "      <td>0.015914</td>\n",
              "    </tr>\n",
              "    <tr>\n",
              "      <th>MONTH</th>\n",
              "      <td>NaN</td>\n",
              "      <td>NaN</td>\n",
              "      <td>NaN</td>\n",
              "      <td>NaN</td>\n",
              "      <td>NaN</td>\n",
              "      <td>NaN</td>\n",
              "      <td>NaN</td>\n",
              "      <td>NaN</td>\n",
              "      <td>NaN</td>\n",
              "      <td>NaN</td>\n",
              "    </tr>\n",
              "    <tr>\n",
              "      <th>WEEKDAY</th>\n",
              "      <td>0.051868</td>\n",
              "      <td>-0.020926</td>\n",
              "      <td>0.018604</td>\n",
              "      <td>-0.123636</td>\n",
              "      <td>1.000000</td>\n",
              "      <td>0.015914</td>\n",
              "      <td>-0.040756</td>\n",
              "      <td>0.015914</td>\n",
              "      <td>NaN</td>\n",
              "      <td>1.000000</td>\n",
              "    </tr>\n",
              "  </tbody>\n",
              "</table>\n",
              "</div>"
            ],
            "text/plain": [
              "                      DEP_TIME  DISTANCE    FL_NUM   Weather  DAY_WEEK  \\\n",
              "DEP_TIME              1.000000  0.057680  0.105660  0.019001  0.051868   \n",
              "DISTANCE              0.057680  1.000000  0.421937  0.033104 -0.020926   \n",
              "FL_NUM                0.105660  0.421937  1.000000  0.042076  0.018604   \n",
              "Weather               0.019001  0.033104  0.042076  1.000000 -0.123636   \n",
              "DAY_WEEK              0.051868 -0.020926  0.018604 -0.123636  1.000000   \n",
              "DAY_OF_MONTH          0.000132  0.010121 -0.009268  0.144034  0.015914   \n",
              "Flight_Status_binary  0.170116 -0.018794  0.100394  0.247217 -0.040756   \n",
              "DAY                   0.000132  0.010121 -0.009268  0.144034  0.015914   \n",
              "MONTH                      NaN       NaN       NaN       NaN       NaN   \n",
              "WEEKDAY               0.051868 -0.020926  0.018604 -0.123636  1.000000   \n",
              "\n",
              "                      DAY_OF_MONTH  Flight_Status_binary       DAY  MONTH  \\\n",
              "DEP_TIME                  0.000132              0.170116  0.000132    NaN   \n",
              "DISTANCE                  0.010121             -0.018794  0.010121    NaN   \n",
              "FL_NUM                   -0.009268              0.100394 -0.009268    NaN   \n",
              "Weather                   0.144034              0.247217  0.144034    NaN   \n",
              "DAY_WEEK                  0.015914             -0.040756  0.015914    NaN   \n",
              "DAY_OF_MONTH              1.000000              0.066598  1.000000    NaN   \n",
              "Flight_Status_binary      0.066598              1.000000  0.066598    NaN   \n",
              "DAY                       1.000000              0.066598  1.000000    NaN   \n",
              "MONTH                          NaN                   NaN       NaN    NaN   \n",
              "WEEKDAY                   0.015914             -0.040756  0.015914    NaN   \n",
              "\n",
              "                       WEEKDAY  \n",
              "DEP_TIME              0.051868  \n",
              "DISTANCE             -0.020926  \n",
              "FL_NUM                0.018604  \n",
              "Weather              -0.123636  \n",
              "DAY_WEEK              1.000000  \n",
              "DAY_OF_MONTH          0.015914  \n",
              "Flight_Status_binary -0.040756  \n",
              "DAY                   0.015914  \n",
              "MONTH                      NaN  \n",
              "WEEKDAY               1.000000  "
            ]
          },
          "metadata": {
            "tags": []
          },
          "execution_count": 61
        }
      ]
    }
  ]
}